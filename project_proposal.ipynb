{
 "cells": [
  {
   "cell_type": "markdown",
   "metadata": {},
   "source": [
    "## Notes"
   ]
  },
  {
   "cell_type": "code",
   "execution_count": 3,
   "metadata": {
    "vscode": {
     "languageId": "r"
    }
   },
   "outputs": [
    {
     "name": "stderr",
     "output_type": "stream",
     "text": [
      "── \u001b[1mAttaching packages\u001b[22m ─────────────────────────────────────── tidyverse 1.3.1 ──\n",
      "\n",
      "\u001b[32m✔\u001b[39m \u001b[34mggplot2\u001b[39m 3.3.6     \u001b[32m✔\u001b[39m \u001b[34mpurrr  \u001b[39m 0.3.4\n",
      "\u001b[32m✔\u001b[39m \u001b[34mtibble \u001b[39m 3.1.7     \u001b[32m✔\u001b[39m \u001b[34mdplyr  \u001b[39m 1.0.9\n",
      "\u001b[32m✔\u001b[39m \u001b[34mtidyr  \u001b[39m 1.2.0     \u001b[32m✔\u001b[39m \u001b[34mstringr\u001b[39m 1.4.0\n",
      "\u001b[32m✔\u001b[39m \u001b[34mreadr  \u001b[39m 2.1.2     \u001b[32m✔\u001b[39m \u001b[34mforcats\u001b[39m 0.5.1\n",
      "\n",
      "── \u001b[1mConflicts\u001b[22m ────────────────────────────────────────── tidyverse_conflicts() ──\n",
      "\u001b[31m✖\u001b[39m \u001b[34mdplyr\u001b[39m::\u001b[32mfilter()\u001b[39m masks \u001b[34mstats\u001b[39m::filter()\n",
      "\u001b[31m✖\u001b[39m \u001b[34mdplyr\u001b[39m::\u001b[32mlag()\u001b[39m    masks \u001b[34mstats\u001b[39m::lag()\n",
      "\n",
      "── \u001b[1mAttaching packages\u001b[22m ────────────────────────────────────── tidymodels 1.0.0 ──\n",
      "\n",
      "\u001b[32m✔\u001b[39m \u001b[34mbroom       \u001b[39m 1.0.0     \u001b[32m✔\u001b[39m \u001b[34mrsample     \u001b[39m 1.0.0\n",
      "\u001b[32m✔\u001b[39m \u001b[34mdials       \u001b[39m 1.0.0     \u001b[32m✔\u001b[39m \u001b[34mtune        \u001b[39m 1.0.0\n",
      "\u001b[32m✔\u001b[39m \u001b[34minfer       \u001b[39m 1.0.2     \u001b[32m✔\u001b[39m \u001b[34mworkflows   \u001b[39m 1.0.0\n",
      "\u001b[32m✔\u001b[39m \u001b[34mmodeldata   \u001b[39m 1.0.0     \u001b[32m✔\u001b[39m \u001b[34mworkflowsets\u001b[39m 1.0.0\n",
      "\u001b[32m✔\u001b[39m \u001b[34mparsnip     \u001b[39m 1.0.0     \u001b[32m✔\u001b[39m \u001b[34myardstick   \u001b[39m 1.0.0\n",
      "\u001b[32m✔\u001b[39m \u001b[34mrecipes     \u001b[39m 1.0.1     \n",
      "\n",
      "── \u001b[1mConflicts\u001b[22m ───────────────────────────────────────── tidymodels_conflicts() ──\n",
      "\u001b[31m✖\u001b[39m \u001b[34mscales\u001b[39m::\u001b[32mdiscard()\u001b[39m masks \u001b[34mpurrr\u001b[39m::discard()\n",
      "\u001b[31m✖\u001b[39m \u001b[34mdplyr\u001b[39m::\u001b[32mfilter()\u001b[39m   masks \u001b[34mstats\u001b[39m::filter()\n",
      "\u001b[31m✖\u001b[39m \u001b[34mrecipes\u001b[39m::\u001b[32mfixed()\u001b[39m  masks \u001b[34mstringr\u001b[39m::fixed()\n",
      "\u001b[31m✖\u001b[39m \u001b[34mdplyr\u001b[39m::\u001b[32mlag()\u001b[39m      masks \u001b[34mstats\u001b[39m::lag()\n",
      "\u001b[31m✖\u001b[39m \u001b[34myardstick\u001b[39m::\u001b[32mspec()\u001b[39m masks \u001b[34mreadr\u001b[39m::spec()\n",
      "\u001b[31m✖\u001b[39m \u001b[34mrecipes\u001b[39m::\u001b[32mstep()\u001b[39m   masks \u001b[34mstats\u001b[39m::step()\n",
      "\u001b[34m•\u001b[39m Use \u001b[32mtidymodels_prefer()\u001b[39m to resolve common conflicts.\n",
      "\n"
     ]
    }
   ],
   "source": [
    "# Environment Setup\n",
    "library(tidyverse)\n",
    "library(tidymodels)\n",
    "library(readxl)\n",
    "\n",
    "options(repr.plot.width = 10, repr.plot.height = 8)"
   ]
  },
  {
   "cell_type": "markdown",
   "metadata": {},
   "source": [
    "# Credit Card Default Prediction\n",
    "___"
   ]
  },
  {
   "cell_type": "markdown",
   "metadata": {},
   "source": [
    "## Introduction\n",
    "___"
   ]
  },
  {
   "cell_type": "markdown",
   "metadata": {
    "jupyter": {
     "source_hidden": true
    },
    "tags": []
   },
   "source": [
    "**TODO: (!!! delete below in final draft)**\n",
    "* Provide some relevant background information on the topic so that someone unfamiliar with it will be prepared to understand the rest of your proposal\n",
    "* Clearly state the question you will try to answer with your project\n",
    "* Identify and describe the dataset that will be used to answer the question\n",
    "\n",
    "#### **Background** ####\n",
    "Credit Card is an essential part of our daily lives today. Per Statista there were 76M credit cards in circulation within Canada implaying 2 per every Canadian. In addition to the impact it has on everyday citizens, credit card is booming and loan securitization is a huge business for banks and asset managers. As such, a large credit card default at a macro level could lead to systemic failures of banks and the broader capital markets similar to the one observed in GFC.\n",
    "\n",
    "#### **Thesis** ####\n",
    "Using the data and the techniques learned in class, we would like to answer the question: **can we predict the default status of a credit card client?**\n",
    "\n",
    "#### **Data** ####\n",
    "The data is from an unnamed debit and credit card issuing bank in Taiwan. The data consists of information about 30,000 customers as at October 2005, of which 23,364 (78%) have not defaulted while 6,636 (22%) have defaulted. The default status is represented as binary variable (1 = Yes, 0 = No). Variables available to be used as direct inputs are as below:\n",
    "* **X1**: Amount of Credit Given (NT$)\n",
    "* **X2**: Sex (1 = Male, 2 = Female)\n",
    "* **X3**: Education (1 = Graduate School, 2 = University, 3 = High School, 4 = Others)\n",
    "* **X4**: Marital Status (1 = Married, 2 = Single, 3 = Others)\n",
    "* **X5**: Age (# of Years)\n",
    "* **X6-X11**: Repayment Status (-1 = Clear, 1 = Payment Delay of 1 Month, 2 = Payment Delay of 2 Months, ..., 8 = Payment Delay of 8 Months, 9 = Payment Delay of 9 Months or greater)\n",
    "    * **X6**  = Repayment status in 2005-09\n",
    "    * **X7**  = Repayment status in 2005-08\n",
    "    * **X8**  = Repayment status in 2005-07\n",
    "    * **X9**  = Repayment status in 2005-06\n",
    "    * **X10** = Repayment status in 2005-05\n",
    "    * **X11** = Repayment status in 2005-04\n",
    "* **X12-X17**: Amount of Bill Statement (NT$)\n",
    "    * **X12** = Amount of Bill Statement in 2005-09\n",
    "    * **X13** = Amount of Bill Statement in 2005-08\n",
    "    * **X14** = Amount of Bill Statement in 2005-07\n",
    "    * **X15** = Amount of Bill Statement in 2005-06\n",
    "    * **X16** = Amount of Bill Statement in 2005-05\n",
    "    * **X17** = Amount of Bill Statement in 2005-04\n",
    "* **X18-X23**: Amount of Previous Payment (NT$)\n",
    "    * **X18** = Amount Paid in 2005-09\n",
    "    * **X19** = Amount Paid in 2005-08\n",
    "    * **X21** = Amount Paid in 2005-06\n",
    "    * **X20** = Amount Paid in 2005-07\n",
    "    * **X21** = Amount Paid in 2005-05\n",
    "    * **X23** = Amount Paid in 2005-04\n",
    "\n",
    "Source of Data: https://archive.ics.uci.edu/ml/datasets/default+of+credit+card+clients"
   ]
  },
  {
   "cell_type": "markdown",
   "metadata": {},
   "source": [
    "## Preliminary Exploratory Data Analysis\n",
    "___"
   ]
  },
  {
   "cell_type": "markdown",
   "metadata": {},
   "source": [
    "* Demonstrate that the dataset can be read from the web into R \n",
    "* Clean and wrangle your data into a tidy format\n",
    "* Using only **training data**, summarize the data in at least one table (this is exploratory data analysis). An example of a useful table could be one that reports the number of observations in each class, the means of the predictor variables you plan to use in your analysis and how many rows have missing data. \n",
    "* Using only **training data**, visualize the data with at least one plot relevant to the analysis you plan to do (this is exploratory data analysis). An example of a useful visualization could be one that compares the distributions of each of the predictor variables you plan to use in your analysis.\n"
   ]
  },
  {
   "cell_type": "code",
   "execution_count": 4,
   "metadata": {
    "vscode": {
     "languageId": "r"
    }
   },
   "outputs": [
    {
     "data": {
      "text/html": [
       "<table class=\"dataframe\">\n",
       "<caption>A tibble: 6 × 24</caption>\n",
       "<thead>\n",
       "\t<tr><th scope=col>credit_limit</th><th scope=col>sex</th><th scope=col>education</th><th scope=col>marital_status</th><th scope=col>age</th><th scope=col>status_09</th><th scope=col>status_08</th><th scope=col>status_07</th><th scope=col>status_06</th><th scope=col>status_05</th><th scope=col>⋯</th><th scope=col>balance_06</th><th scope=col>balance_05</th><th scope=col>balance_04</th><th scope=col>payment_09</th><th scope=col>payment_08</th><th scope=col>payment_07</th><th scope=col>payment_06</th><th scope=col>payment_05</th><th scope=col>payment_04</th><th scope=col>y</th></tr>\n",
       "\t<tr><th scope=col>&lt;dbl&gt;</th><th scope=col>&lt;dbl&gt;</th><th scope=col>&lt;dbl&gt;</th><th scope=col>&lt;dbl&gt;</th><th scope=col>&lt;dbl&gt;</th><th scope=col>&lt;dbl&gt;</th><th scope=col>&lt;dbl&gt;</th><th scope=col>&lt;dbl&gt;</th><th scope=col>&lt;dbl&gt;</th><th scope=col>&lt;dbl&gt;</th><th scope=col>⋯</th><th scope=col>&lt;dbl&gt;</th><th scope=col>&lt;dbl&gt;</th><th scope=col>&lt;dbl&gt;</th><th scope=col>&lt;dbl&gt;</th><th scope=col>&lt;dbl&gt;</th><th scope=col>&lt;dbl&gt;</th><th scope=col>&lt;dbl&gt;</th><th scope=col>&lt;dbl&gt;</th><th scope=col>&lt;dbl&gt;</th><th scope=col>&lt;dbl&gt;</th></tr>\n",
       "</thead>\n",
       "<tbody>\n",
       "\t<tr><td> 20000</td><td>2</td><td>2</td><td>1</td><td>24</td><td> 2</td><td>2</td><td>-1</td><td>-1</td><td>-2</td><td>⋯</td><td>    0</td><td>    0</td><td>    0</td><td>   0</td><td>  689</td><td>    0</td><td>   0</td><td>   0</td><td>   0</td><td>1</td></tr>\n",
       "\t<tr><td>120000</td><td>2</td><td>2</td><td>2</td><td>26</td><td>-1</td><td>2</td><td> 0</td><td> 0</td><td> 0</td><td>⋯</td><td> 3272</td><td> 3455</td><td> 3261</td><td>   0</td><td> 1000</td><td> 1000</td><td>1000</td><td>   0</td><td>2000</td><td>1</td></tr>\n",
       "\t<tr><td> 90000</td><td>2</td><td>2</td><td>2</td><td>34</td><td> 0</td><td>0</td><td> 0</td><td> 0</td><td> 0</td><td>⋯</td><td>14331</td><td>14948</td><td>15549</td><td>1518</td><td> 1500</td><td> 1000</td><td>1000</td><td>1000</td><td>5000</td><td>0</td></tr>\n",
       "\t<tr><td> 50000</td><td>2</td><td>2</td><td>1</td><td>37</td><td> 0</td><td>0</td><td> 0</td><td> 0</td><td> 0</td><td>⋯</td><td>28314</td><td>28959</td><td>29547</td><td>2000</td><td> 2019</td><td> 1200</td><td>1100</td><td>1069</td><td>1000</td><td>0</td></tr>\n",
       "\t<tr><td> 50000</td><td>1</td><td>2</td><td>1</td><td>57</td><td>-1</td><td>0</td><td>-1</td><td> 0</td><td> 0</td><td>⋯</td><td>20940</td><td>19146</td><td>19131</td><td>2000</td><td>36681</td><td>10000</td><td>9000</td><td> 689</td><td> 679</td><td>0</td></tr>\n",
       "\t<tr><td> 50000</td><td>1</td><td>1</td><td>2</td><td>37</td><td> 0</td><td>0</td><td> 0</td><td> 0</td><td> 0</td><td>⋯</td><td>19394</td><td>19619</td><td>20024</td><td>2500</td><td> 1815</td><td>  657</td><td>1000</td><td>1000</td><td> 800</td><td>0</td></tr>\n",
       "</tbody>\n",
       "</table>\n"
      ],
      "text/latex": [
       "A tibble: 6 × 24\n",
       "\\begin{tabular}{lllllllllllllllllllll}\n",
       " credit\\_limit & sex & education & marital\\_status & age & status\\_09 & status\\_08 & status\\_07 & status\\_06 & status\\_05 & ⋯ & balance\\_06 & balance\\_05 & balance\\_04 & payment\\_09 & payment\\_08 & payment\\_07 & payment\\_06 & payment\\_05 & payment\\_04 & y\\\\\n",
       " <dbl> & <dbl> & <dbl> & <dbl> & <dbl> & <dbl> & <dbl> & <dbl> & <dbl> & <dbl> & ⋯ & <dbl> & <dbl> & <dbl> & <dbl> & <dbl> & <dbl> & <dbl> & <dbl> & <dbl> & <dbl>\\\\\n",
       "\\hline\n",
       "\t  20000 & 2 & 2 & 1 & 24 &  2 & 2 & -1 & -1 & -2 & ⋯ &     0 &     0 &     0 &    0 &   689 &     0 &    0 &    0 &    0 & 1\\\\\n",
       "\t 120000 & 2 & 2 & 2 & 26 & -1 & 2 &  0 &  0 &  0 & ⋯ &  3272 &  3455 &  3261 &    0 &  1000 &  1000 & 1000 &    0 & 2000 & 1\\\\\n",
       "\t  90000 & 2 & 2 & 2 & 34 &  0 & 0 &  0 &  0 &  0 & ⋯ & 14331 & 14948 & 15549 & 1518 &  1500 &  1000 & 1000 & 1000 & 5000 & 0\\\\\n",
       "\t  50000 & 2 & 2 & 1 & 37 &  0 & 0 &  0 &  0 &  0 & ⋯ & 28314 & 28959 & 29547 & 2000 &  2019 &  1200 & 1100 & 1069 & 1000 & 0\\\\\n",
       "\t  50000 & 1 & 2 & 1 & 57 & -1 & 0 & -1 &  0 &  0 & ⋯ & 20940 & 19146 & 19131 & 2000 & 36681 & 10000 & 9000 &  689 &  679 & 0\\\\\n",
       "\t  50000 & 1 & 1 & 2 & 37 &  0 & 0 &  0 &  0 &  0 & ⋯ & 19394 & 19619 & 20024 & 2500 &  1815 &   657 & 1000 & 1000 &  800 & 0\\\\\n",
       "\\end{tabular}\n"
      ],
      "text/markdown": [
       "\n",
       "A tibble: 6 × 24\n",
       "\n",
       "| credit_limit &lt;dbl&gt; | sex &lt;dbl&gt; | education &lt;dbl&gt; | marital_status &lt;dbl&gt; | age &lt;dbl&gt; | status_09 &lt;dbl&gt; | status_08 &lt;dbl&gt; | status_07 &lt;dbl&gt; | status_06 &lt;dbl&gt; | status_05 &lt;dbl&gt; | ⋯ ⋯ | balance_06 &lt;dbl&gt; | balance_05 &lt;dbl&gt; | balance_04 &lt;dbl&gt; | payment_09 &lt;dbl&gt; | payment_08 &lt;dbl&gt; | payment_07 &lt;dbl&gt; | payment_06 &lt;dbl&gt; | payment_05 &lt;dbl&gt; | payment_04 &lt;dbl&gt; | y &lt;dbl&gt; |\n",
       "|---|---|---|---|---|---|---|---|---|---|---|---|---|---|---|---|---|---|---|---|---|\n",
       "|  20000 | 2 | 2 | 1 | 24 |  2 | 2 | -1 | -1 | -2 | ⋯ |     0 |     0 |     0 |    0 |   689 |     0 |    0 |    0 |    0 | 1 |\n",
       "| 120000 | 2 | 2 | 2 | 26 | -1 | 2 |  0 |  0 |  0 | ⋯ |  3272 |  3455 |  3261 |    0 |  1000 |  1000 | 1000 |    0 | 2000 | 1 |\n",
       "|  90000 | 2 | 2 | 2 | 34 |  0 | 0 |  0 |  0 |  0 | ⋯ | 14331 | 14948 | 15549 | 1518 |  1500 |  1000 | 1000 | 1000 | 5000 | 0 |\n",
       "|  50000 | 2 | 2 | 1 | 37 |  0 | 0 |  0 |  0 |  0 | ⋯ | 28314 | 28959 | 29547 | 2000 |  2019 |  1200 | 1100 | 1069 | 1000 | 0 |\n",
       "|  50000 | 1 | 2 | 1 | 57 | -1 | 0 | -1 |  0 |  0 | ⋯ | 20940 | 19146 | 19131 | 2000 | 36681 | 10000 | 9000 |  689 |  679 | 0 |\n",
       "|  50000 | 1 | 1 | 2 | 37 |  0 | 0 |  0 |  0 |  0 | ⋯ | 19394 | 19619 | 20024 | 2500 |  1815 |   657 | 1000 | 1000 |  800 | 0 |\n",
       "\n"
      ],
      "text/plain": [
       "  credit_limit sex education marital_status age status_09 status_08 status_07\n",
       "1  20000       2   2         1              24   2        2         -1       \n",
       "2 120000       2   2         2              26  -1        2          0       \n",
       "3  90000       2   2         2              34   0        0          0       \n",
       "4  50000       2   2         1              37   0        0          0       \n",
       "5  50000       1   2         1              57  -1        0         -1       \n",
       "6  50000       1   1         2              37   0        0          0       \n",
       "  status_06 status_05 ⋯ balance_06 balance_05 balance_04 payment_09 payment_08\n",
       "1 -1        -2        ⋯     0          0          0         0         689     \n",
       "2  0         0        ⋯  3272       3455       3261         0        1000     \n",
       "3  0         0        ⋯ 14331      14948      15549      1518        1500     \n",
       "4  0         0        ⋯ 28314      28959      29547      2000        2019     \n",
       "5  0         0        ⋯ 20940      19146      19131      2000       36681     \n",
       "6  0         0        ⋯ 19394      19619      20024      2500        1815     \n",
       "  payment_07 payment_06 payment_05 payment_04 y\n",
       "1     0         0          0          0       1\n",
       "2  1000      1000          0       2000       1\n",
       "3  1000      1000       1000       5000       0\n",
       "4  1200      1100       1069       1000       0\n",
       "5 10000      9000        689        679       0\n",
       "6   657      1000       1000        800       0"
      ]
     },
     "metadata": {},
     "output_type": "display_data"
    },
    {
     "name": "stdout",
     "output_type": "stream",
     "text": [
      "Rows: 30,000\n",
      "Columns: 24\n",
      "$ credit_limit   \u001b[3m\u001b[90m<dbl>\u001b[39m\u001b[23m 20000, 120000, 90000, 50000, 50000, 50000, 500000, 1000…\n",
      "$ sex            \u001b[3m\u001b[90m<dbl>\u001b[39m\u001b[23m 2, 2, 2, 2, 1, 1, 1, 2, 2, 1, 2, 2, 2, 1, 1, 2, 1, 1, 2…\n",
      "$ education      \u001b[3m\u001b[90m<dbl>\u001b[39m\u001b[23m 2, 2, 2, 2, 2, 1, 1, 2, 3, 3, 3, 1, 2, 2, 1, 3, 1, 1, 1…\n",
      "$ marital_status \u001b[3m\u001b[90m<dbl>\u001b[39m\u001b[23m 1, 2, 2, 1, 1, 2, 2, 2, 1, 2, 2, 2, 2, 2, 2, 3, 2, 1, 1…\n",
      "$ age            \u001b[3m\u001b[90m<dbl>\u001b[39m\u001b[23m 24, 26, 34, 37, 57, 37, 29, 23, 28, 35, 34, 51, 41, 30,…\n",
      "$ status_09      \u001b[3m\u001b[90m<dbl>\u001b[39m\u001b[23m 2, -1, 0, 0, -1, 0, 0, 0, 0, -2, 0, -1, -1, 1, 0, 1, 0,…\n",
      "$ status_08      \u001b[3m\u001b[90m<dbl>\u001b[39m\u001b[23m 2, 2, 0, 0, 0, 0, 0, -1, 0, -2, 0, -1, 0, 2, 0, 2, 0, 0…\n",
      "$ status_07      \u001b[3m\u001b[90m<dbl>\u001b[39m\u001b[23m -1, 0, 0, 0, -1, 0, 0, -1, 2, -2, 2, -1, -1, 2, 0, 0, 2…\n",
      "$ status_06      \u001b[3m\u001b[90m<dbl>\u001b[39m\u001b[23m -1, 0, 0, 0, 0, 0, 0, 0, 0, -2, 0, -1, -1, 0, 0, 0, 2, …\n",
      "$ status_05      \u001b[3m\u001b[90m<dbl>\u001b[39m\u001b[23m -2, 0, 0, 0, 0, 0, 0, 0, 0, -1, 0, -1, -1, 0, 0, 0, 2, …\n",
      "$ status_04      \u001b[3m\u001b[90m<dbl>\u001b[39m\u001b[23m -2, 2, 0, 0, 0, 0, 0, -1, 0, -1, -1, 2, -1, 2, 0, 0, 2,…\n",
      "$ balance_09     \u001b[3m\u001b[90m<dbl>\u001b[39m\u001b[23m 3913, 2682, 29239, 46990, 8617, 64400, 367965, 11876, 1…\n",
      "$ balance_08     \u001b[3m\u001b[90m<dbl>\u001b[39m\u001b[23m 3102, 1725, 14027, 48233, 5670, 57069, 412023, 380, 140…\n",
      "$ balance_07     \u001b[3m\u001b[90m<dbl>\u001b[39m\u001b[23m 689, 2682, 13559, 49291, 35835, 57608, 445007, 601, 121…\n",
      "$ balance_06     \u001b[3m\u001b[90m<dbl>\u001b[39m\u001b[23m 0, 3272, 14331, 28314, 20940, 19394, 542653, 221, 12211…\n",
      "$ balance_05     \u001b[3m\u001b[90m<dbl>\u001b[39m\u001b[23m 0, 3455, 14948, 28959, 19146, 19619, 483003, -159, 1179…\n",
      "$ balance_04     \u001b[3m\u001b[90m<dbl>\u001b[39m\u001b[23m 0, 3261, 15549, 29547, 19131, 20024, 473944, 567, 3719,…\n",
      "$ payment_09     \u001b[3m\u001b[90m<dbl>\u001b[39m\u001b[23m 0, 0, 1518, 2000, 2000, 2500, 55000, 380, 3329, 0, 2306…\n",
      "$ payment_08     \u001b[3m\u001b[90m<dbl>\u001b[39m\u001b[23m 689, 1000, 1500, 2019, 36681, 1815, 40000, 601, 0, 0, 1…\n",
      "$ payment_07     \u001b[3m\u001b[90m<dbl>\u001b[39m\u001b[23m 0, 1000, 1000, 1200, 10000, 657, 38000, 0, 432, 0, 50, …\n",
      "$ payment_06     \u001b[3m\u001b[90m<dbl>\u001b[39m\u001b[23m 0, 1000, 1000, 1100, 9000, 1000, 20239, 581, 1000, 1300…\n",
      "$ payment_05     \u001b[3m\u001b[90m<dbl>\u001b[39m\u001b[23m 0, 0, 1000, 1069, 689, 1000, 13750, 1687, 1000, 1122, 3…\n",
      "$ payment_04     \u001b[3m\u001b[90m<dbl>\u001b[39m\u001b[23m 0, 2000, 5000, 1000, 679, 800, 13770, 1542, 1000, 0, 66…\n",
      "$ y              \u001b[3m\u001b[90m<dbl>\u001b[39m\u001b[23m 1, 1, 0, 0, 0, 0, 0, 0, 0, 0, 0, 0, 0, 1, 0, 0, 1, 0, 0…\n"
     ]
    }
   ],
   "source": [
    "columns = c('id', 'credit_limit', 'sex', 'education', 'marital_status', 'age',\n",
    "            'status_09', 'status_08', 'status_07', 'status_06', 'status_05', 'status_04',\n",
    "            'balance_09', 'balance_08', 'balance_07', 'balance_06', 'balance_05', 'balance_04',\n",
    "            'payment_09', 'payment_08', 'payment_07', 'payment_06', 'payment_05', 'payment_04',\n",
    "            'y')\n",
    "            \n",
    "credit_card_data <- read_excel('data/default of credit card clients.xls',sheet='Data',skip=2,col_names=columns) |>\n",
    "    select(-id)\n",
    "\n",
    "head(credit_card_data)\n",
    "glimpse(credit_card_data)"
   ]
  },
  {
   "cell_type": "code",
   "execution_count": 46,
   "metadata": {
    "vscode": {
     "languageId": "r"
    }
   },
   "outputs": [],
   "source": [
    "### set.seed(154)\n",
    "credit_card_split <- credit_card_data |> initial_split(prop=0.75, strata = y)\n",
    "credit_card_train <- training(credit_card_split)\n",
    "credit_card_test <- testing(credit_card_split)\n"
   ]
  },
  {
   "cell_type": "code",
   "execution_count": 47,
   "metadata": {},
   "outputs": [
    {
     "data": {
      "text/html": [
       "<table class=\"dataframe\">\n",
       "<caption>A tibble: 2 × 5</caption>\n",
       "<thead>\n",
       "\t<tr><th scope=col>y</th><th scope=col>credit_limit_ave</th><th scope=col>age_ave</th><th scope=col>payment_ave</th><th scope=col>balance_ave</th></tr>\n",
       "\t<tr><th scope=col>&lt;dbl&gt;</th><th scope=col>&lt;dbl&gt;</th><th scope=col>&lt;dbl&gt;</th><th scope=col>&lt;dbl&gt;</th><th scope=col>&lt;dbl&gt;</th></tr>\n",
       "</thead>\n",
       "<tbody>\n",
       "\t<tr><td>0</td><td>186410.8</td><td>35.49840</td><td>7262.180</td><td>120457.0</td></tr>\n",
       "\t<tr><td>1</td><td>137162.1</td><td>35.88201</td><td>4937.463</td><td>125572.3</td></tr>\n",
       "</tbody>\n",
       "</table>\n"
      ],
      "text/latex": [
       "A tibble: 2 × 5\n",
       "\\begin{tabular}{lllll}\n",
       " y & credit\\_limit\\_ave & age\\_ave & payment\\_ave & balance\\_ave\\\\\n",
       " <dbl> & <dbl> & <dbl> & <dbl> & <dbl>\\\\\n",
       "\\hline\n",
       "\t 0 & 186410.8 & 35.49840 & 7262.180 & 120457.0\\\\\n",
       "\t 1 & 137162.1 & 35.88201 & 4937.463 & 125572.3\\\\\n",
       "\\end{tabular}\n"
      ],
      "text/markdown": [
       "\n",
       "A tibble: 2 × 5\n",
       "\n",
       "| y &lt;dbl&gt; | credit_limit_ave &lt;dbl&gt; | age_ave &lt;dbl&gt; | payment_ave &lt;dbl&gt; | balance_ave &lt;dbl&gt; |\n",
       "|---|---|---|---|---|\n",
       "| 0 | 186410.8 | 35.49840 | 7262.180 | 120457.0 |\n",
       "| 1 | 137162.1 | 35.88201 | 4937.463 | 125572.3 |\n",
       "\n"
      ],
      "text/plain": [
       "  y credit_limit_ave age_ave  payment_ave balance_ave\n",
       "1 0 186410.8         35.49840 7262.180    120457.0   \n",
       "2 1 137162.1         35.88201 4937.463    125572.3   "
      ]
     },
     "metadata": {},
     "output_type": "display_data"
    }
   ],
   "source": [
    "credit_card_ave_table <- credit_card_train |> \n",
    "        filter(balance_09 != is.na(balance_09))|>\n",
    "        filter(balance_08 != is.na(balance_08))|>\n",
    "        filter(balance_07 != is.na(balance_07))|>\n",
    "        filter(balance_06 != is.na(balance_06))|>\n",
    "        filter(balance_05 != is.na(balance_05))|>\n",
    "        filter(balance_04 != is.na(balance_04))|>\n",
    "        mutate(balance_ave = (balance_09 + balance_08 + balance_07 + balance_06 + balance_05 + balance_04)/3)|>\n",
    "        filter(payment_09 != is.na(payment_09))|>\n",
    "        filter(payment_08 != is.na(payment_08))|>\n",
    "        filter(balance_07 != is.na(balance_07))|>\n",
    "        filter(payment_06 != is.na(payment_06))|>\n",
    "        filter(payment_05 != is.na(payment_05))|>\n",
    "        filter(balance_04 != is.na(balance_04))|>\n",
    "        mutate(payment_ave = (payment_09 + payment_08 + payment_07 + payment_06 + payment_05 + payment_04)/6)|>\n",
    "        select(y, credit_limit, age, payment_ave, balance_ave)|> \n",
    "        group_by(y)|>\n",
    "        summarize(credit_limit_ave = mean(credit_limit, na.rm = TRUE), \n",
    "                  age_ave = mean(age, na.rm = TRUE), \n",
    "                  payment_ave = mean(payment_ave, na.rm = TRUE), \n",
    "                  balance_ave = mean(balance_ave, na.rm = TRUE))\n",
    "\n",
    "\n",
    "credit_card_ave_table"
   ]
  },
  {
   "cell_type": "code",
   "execution_count": 48,
   "metadata": {},
   "outputs": [
    {
     "name": "stderr",
     "output_type": "stream",
     "text": [
      "\u001b[1m\u001b[22m`summarise()` has grouped output by 'y'. You can override using the `.groups`\n",
      "argument.\n"
     ]
    },
    {
     "data": {
      "text/html": [
       "<table class=\"dataframe\">\n",
       "<caption>A grouped_df: 11 × 3</caption>\n",
       "<thead>\n",
       "\t<tr><th scope=col>y</th><th scope=col>status_09</th><th scope=col>n</th></tr>\n",
       "\t<tr><th scope=col>&lt;dbl&gt;</th><th scope=col>&lt;dbl&gt;</th><th scope=col>&lt;int&gt;</th></tr>\n",
       "</thead>\n",
       "<tbody>\n",
       "\t<tr><td>0</td><td>-2</td><td>1802</td></tr>\n",
       "\t<tr><td>0</td><td>-1</td><td>3541</td></tr>\n",
       "\t<tr><td>0</td><td> 0</td><td>9601</td></tr>\n",
       "\t<tr><td>0</td><td> 1</td><td>1864</td></tr>\n",
       "\t<tr><td>0</td><td> 2</td><td> 617</td></tr>\n",
       "\t<tr><td>0</td><td> 3</td><td>  57</td></tr>\n",
       "\t<tr><td>0</td><td> 4</td><td>  21</td></tr>\n",
       "\t<tr><td>0</td><td> 5</td><td>   8</td></tr>\n",
       "\t<tr><td>0</td><td> 6</td><td>   3</td></tr>\n",
       "\t<tr><td>0</td><td> 7</td><td>   2</td></tr>\n",
       "\t<tr><td>0</td><td> 8</td><td>   7</td></tr>\n",
       "</tbody>\n",
       "</table>\n"
      ],
      "text/latex": [
       "A grouped\\_df: 11 × 3\n",
       "\\begin{tabular}{lll}\n",
       " y & status\\_09 & n\\\\\n",
       " <dbl> & <dbl> & <int>\\\\\n",
       "\\hline\n",
       "\t 0 & -2 & 1802\\\\\n",
       "\t 0 & -1 & 3541\\\\\n",
       "\t 0 &  0 & 9601\\\\\n",
       "\t 0 &  1 & 1864\\\\\n",
       "\t 0 &  2 &  617\\\\\n",
       "\t 0 &  3 &   57\\\\\n",
       "\t 0 &  4 &   21\\\\\n",
       "\t 0 &  5 &    8\\\\\n",
       "\t 0 &  6 &    3\\\\\n",
       "\t 0 &  7 &    2\\\\\n",
       "\t 0 &  8 &    7\\\\\n",
       "\\end{tabular}\n"
      ],
      "text/markdown": [
       "\n",
       "A grouped_df: 11 × 3\n",
       "\n",
       "| y &lt;dbl&gt; | status_09 &lt;dbl&gt; | n &lt;int&gt; |\n",
       "|---|---|---|\n",
       "| 0 | -2 | 1802 |\n",
       "| 0 | -1 | 3541 |\n",
       "| 0 |  0 | 9601 |\n",
       "| 0 |  1 | 1864 |\n",
       "| 0 |  2 |  617 |\n",
       "| 0 |  3 |   57 |\n",
       "| 0 |  4 |   21 |\n",
       "| 0 |  5 |    8 |\n",
       "| 0 |  6 |    3 |\n",
       "| 0 |  7 |    2 |\n",
       "| 0 |  8 |    7 |\n",
       "\n"
      ],
      "text/plain": [
       "   y status_09 n   \n",
       "1  0 -2        1802\n",
       "2  0 -1        3541\n",
       "3  0  0        9601\n",
       "4  0  1        1864\n",
       "5  0  2         617\n",
       "6  0  3          57\n",
       "7  0  4          21\n",
       "8  0  5           8\n",
       "9  0  6           3\n",
       "10 0  7           2\n",
       "11 0  8           7"
      ]
     },
     "metadata": {},
     "output_type": "display_data"
    },
    {
     "name": "stderr",
     "output_type": "stream",
     "text": [
      "\u001b[1m\u001b[22m`summarise()` has grouped output by 'y'. You can override using the `.groups`\n",
      "argument.\n"
     ]
    },
    {
     "data": {
      "text/html": [
       "<table class=\"dataframe\">\n",
       "<caption>A grouped_df: 11 × 3</caption>\n",
       "<thead>\n",
       "\t<tr><th scope=col>y</th><th scope=col>status_09</th><th scope=col>n</th></tr>\n",
       "\t<tr><th scope=col>&lt;dbl&gt;</th><th scope=col>&lt;dbl&gt;</th><th scope=col>&lt;int&gt;</th></tr>\n",
       "</thead>\n",
       "<tbody>\n",
       "\t<tr><td>1</td><td>-2</td><td> 274</td></tr>\n",
       "\t<tr><td>1</td><td>-1</td><td> 718</td></tr>\n",
       "\t<tr><td>1</td><td> 0</td><td>1433</td></tr>\n",
       "\t<tr><td>1</td><td> 1</td><td> 933</td></tr>\n",
       "\t<tr><td>1</td><td> 2</td><td>1363</td></tr>\n",
       "\t<tr><td>1</td><td> 3</td><td> 187</td></tr>\n",
       "\t<tr><td>1</td><td> 4</td><td>  38</td></tr>\n",
       "\t<tr><td>1</td><td> 5</td><td>  10</td></tr>\n",
       "\t<tr><td>1</td><td> 6</td><td>   6</td></tr>\n",
       "\t<tr><td>1</td><td> 7</td><td>   5</td></tr>\n",
       "\t<tr><td>1</td><td> 8</td><td>  10</td></tr>\n",
       "</tbody>\n",
       "</table>\n"
      ],
      "text/latex": [
       "A grouped\\_df: 11 × 3\n",
       "\\begin{tabular}{lll}\n",
       " y & status\\_09 & n\\\\\n",
       " <dbl> & <dbl> & <int>\\\\\n",
       "\\hline\n",
       "\t 1 & -2 &  274\\\\\n",
       "\t 1 & -1 &  718\\\\\n",
       "\t 1 &  0 & 1433\\\\\n",
       "\t 1 &  1 &  933\\\\\n",
       "\t 1 &  2 & 1363\\\\\n",
       "\t 1 &  3 &  187\\\\\n",
       "\t 1 &  4 &   38\\\\\n",
       "\t 1 &  5 &   10\\\\\n",
       "\t 1 &  6 &    6\\\\\n",
       "\t 1 &  7 &    5\\\\\n",
       "\t 1 &  8 &   10\\\\\n",
       "\\end{tabular}\n"
      ],
      "text/markdown": [
       "\n",
       "A grouped_df: 11 × 3\n",
       "\n",
       "| y &lt;dbl&gt; | status_09 &lt;dbl&gt; | n &lt;int&gt; |\n",
       "|---|---|---|\n",
       "| 1 | -2 |  274 |\n",
       "| 1 | -1 |  718 |\n",
       "| 1 |  0 | 1433 |\n",
       "| 1 |  1 |  933 |\n",
       "| 1 |  2 | 1363 |\n",
       "| 1 |  3 |  187 |\n",
       "| 1 |  4 |   38 |\n",
       "| 1 |  5 |   10 |\n",
       "| 1 |  6 |    6 |\n",
       "| 1 |  7 |    5 |\n",
       "| 1 |  8 |   10 |\n",
       "\n"
      ],
      "text/plain": [
       "   y status_09 n   \n",
       "1  1 -2         274\n",
       "2  1 -1         718\n",
       "3  1  0        1433\n",
       "4  1  1         933\n",
       "5  1  2        1363\n",
       "6  1  3         187\n",
       "7  1  4          38\n",
       "8  1  5          10\n",
       "9  1  6           6\n",
       "10 1  7           5\n",
       "11 1  8          10"
      ]
     },
     "metadata": {},
     "output_type": "display_data"
    }
   ],
   "source": [
    "credit_card_status_0 <- credit_card_train |>\n",
    "        filter(y == 0)|>\n",
    "        select(y, status_09, status_08, status_07, status_06, status_05, status_04)|>\n",
    "        group_by(y, status_09)|>\n",
    "        summarize(n = n())\n",
    "\n",
    "credit_card_status_0\n",
    "\n",
    "credit_card_status_1 <- credit_card_train |>\n",
    "        filter(y == 1)|>\n",
    "        select(y, status_09, status_08, status_07, status_06, status_05, status_04)|>\n",
    "        group_by(y, status_09)|>\n",
    "        summarize(n = n())\n",
    "\n",
    "credit_card_status_1"
   ]
  },
  {
   "cell_type": "code",
   "execution_count": 49,
   "metadata": {},
   "outputs": [
    {
     "data": {
      "text/html": [
       "<table class=\"dataframe\">\n",
       "<caption>A tibble: 2 × 15</caption>\n",
       "<thead>\n",
       "\t<tr><th scope=col>y</th><th scope=col>max_age</th><th scope=col>min_age</th><th scope=col>max_balance_09</th><th scope=col>min_balance_09</th><th scope=col>max_balance_08</th><th scope=col>min_balance_08</th><th scope=col>max_balance_07</th><th scope=col>min_balance_07</th><th scope=col>max_balance_06</th><th scope=col>min_balance_06</th><th scope=col>max_balance_05</th><th scope=col>min_balance_05</th><th scope=col>max_balance_04</th><th scope=col>min_balance_04</th></tr>\n",
       "\t<tr><th scope=col>&lt;dbl&gt;</th><th scope=col>&lt;dbl&gt;</th><th scope=col>&lt;dbl&gt;</th><th scope=col>&lt;dbl&gt;</th><th scope=col>&lt;dbl&gt;</th><th scope=col>&lt;dbl&gt;</th><th scope=col>&lt;dbl&gt;</th><th scope=col>&lt;dbl&gt;</th><th scope=col>&lt;dbl&gt;</th><th scope=col>&lt;dbl&gt;</th><th scope=col>&lt;dbl&gt;</th><th scope=col>&lt;dbl&gt;</th><th scope=col>&lt;dbl&gt;</th><th scope=col>&lt;dbl&gt;</th><th scope=col>&lt;dbl&gt;</th></tr>\n",
       "</thead>\n",
       "<tbody>\n",
       "\t<tr><td>0</td><td>79</td><td>21</td><td>964511</td><td>-154973</td><td>983931</td><td>-67526</td><td>1664089</td><td>-157264</td><td>891586</td><td>-170000</td><td>927171</td><td>-81334</td><td>961664</td><td>-209051</td></tr>\n",
       "\t<tr><td>1</td><td>75</td><td>21</td><td>610723</td><td>  -6676</td><td>581775</td><td>-17710</td><td> 578971</td><td> -61506</td><td>548020</td><td> -50616</td><td>547880</td><td>-53007</td><td>498316</td><td>-339603</td></tr>\n",
       "</tbody>\n",
       "</table>\n"
      ],
      "text/latex": [
       "A tibble: 2 × 15\n",
       "\\begin{tabular}{lllllllllllllll}\n",
       " y & max\\_age & min\\_age & max\\_balance\\_09 & min\\_balance\\_09 & max\\_balance\\_08 & min\\_balance\\_08 & max\\_balance\\_07 & min\\_balance\\_07 & max\\_balance\\_06 & min\\_balance\\_06 & max\\_balance\\_05 & min\\_balance\\_05 & max\\_balance\\_04 & min\\_balance\\_04\\\\\n",
       " <dbl> & <dbl> & <dbl> & <dbl> & <dbl> & <dbl> & <dbl> & <dbl> & <dbl> & <dbl> & <dbl> & <dbl> & <dbl> & <dbl> & <dbl>\\\\\n",
       "\\hline\n",
       "\t 0 & 79 & 21 & 964511 & -154973 & 983931 & -67526 & 1664089 & -157264 & 891586 & -170000 & 927171 & -81334 & 961664 & -209051\\\\\n",
       "\t 1 & 75 & 21 & 610723 &   -6676 & 581775 & -17710 &  578971 &  -61506 & 548020 &  -50616 & 547880 & -53007 & 498316 & -339603\\\\\n",
       "\\end{tabular}\n"
      ],
      "text/markdown": [
       "\n",
       "A tibble: 2 × 15\n",
       "\n",
       "| y &lt;dbl&gt; | max_age &lt;dbl&gt; | min_age &lt;dbl&gt; | max_balance_09 &lt;dbl&gt; | min_balance_09 &lt;dbl&gt; | max_balance_08 &lt;dbl&gt; | min_balance_08 &lt;dbl&gt; | max_balance_07 &lt;dbl&gt; | min_balance_07 &lt;dbl&gt; | max_balance_06 &lt;dbl&gt; | min_balance_06 &lt;dbl&gt; | max_balance_05 &lt;dbl&gt; | min_balance_05 &lt;dbl&gt; | max_balance_04 &lt;dbl&gt; | min_balance_04 &lt;dbl&gt; |\n",
       "|---|---|---|---|---|---|---|---|---|---|---|---|---|---|---|\n",
       "| 0 | 79 | 21 | 964511 | -154973 | 983931 | -67526 | 1664089 | -157264 | 891586 | -170000 | 927171 | -81334 | 961664 | -209051 |\n",
       "| 1 | 75 | 21 | 610723 |   -6676 | 581775 | -17710 |  578971 |  -61506 | 548020 |  -50616 | 547880 | -53007 | 498316 | -339603 |\n",
       "\n"
      ],
      "text/plain": [
       "  y max_age min_age max_balance_09 min_balance_09 max_balance_08 min_balance_08\n",
       "1 0 79      21      964511         -154973        983931         -67526        \n",
       "2 1 75      21      610723           -6676        581775         -17710        \n",
       "  max_balance_07 min_balance_07 max_balance_06 min_balance_06 max_balance_05\n",
       "1 1664089        -157264        891586         -170000        927171        \n",
       "2  578971         -61506        548020          -50616        547880        \n",
       "  min_balance_05 max_balance_04 min_balance_04\n",
       "1 -81334         961664         -209051       \n",
       "2 -53007         498316         -339603       "
      ]
     },
     "metadata": {},
     "output_type": "display_data"
    }
   ],
   "source": [
    "credit_card_max_min_table <- credit_card_train|>\n",
    "        select(-sex, -education, -marital_status, -status_09, -status_08, -status_07, -status_06, -status_05, -status_04)|>\n",
    "        group_by(y)|>\n",
    "        summarize(max_age = max(age), \n",
    "                  min_age = min(age), \n",
    "                  max_balance_09 = max(balance_09),\n",
    "                  min_balance_09 = min(balance_09),\n",
    "                  max_balance_08 = max(balance_08),\n",
    "                  min_balance_08 = min(balance_08),\n",
    "                  max_balance_07 = max(balance_07),\n",
    "                  min_balance_07 = min(balance_07),\n",
    "                  max_balance_06 = max(balance_06),\n",
    "                  min_balance_06 = min(balance_06),\n",
    "                  max_balance_05 = max(balance_05),\n",
    "                  min_balance_05 = min(balance_05),\n",
    "                  max_balance_04 = max(balance_04),\n",
    "                  min_balance_04 = min(balance_04))\n",
    "\n",
    "\n",
    "credit_card_max_min_table"
   ]
  },
  {
   "cell_type": "markdown",
   "metadata": {},
   "source": [
    "## Methods\n",
    "___"
   ]
  },
  {
   "cell_type": "markdown",
   "metadata": {},
   "source": [
    "* Explain how you will conduct either your data analysis and which variables/columns you will use. <u>Note - you do not need to use all variables/columns that exist in the raw data set. In fact, that's often not a good idea. For each variable think: is this a useful variable for prediction?</u>\n",
    "* Describe at least one way that you will visualize the results"
   ]
  },
  {
   "cell_type": "markdown",
   "metadata": {},
   "source": [
    "## Expected Outcomes and Significance\n",
    "___"
   ]
  },
  {
   "cell_type": "markdown",
   "metadata": {},
   "source": [
    "* What do you expect to find?\n",
    "* What impact could such findings have?\n",
    "* What future questions could this lead to?"
   ]
  },
  {
   "cell_type": "markdown",
   "metadata": {},
   "source": [
    "Using this data and applying the information we learned in this course, we plan to predict the default status of a credit card client using Machine Learning.\n",
    "\n",
    "With this data and predictions, we can:\n",
    "\n",
    "1: Create a less risky credit environment for both banks and people\n",
    "2: Provide better rates for less-risky credit card owners\n",
    "3: Develop educational programs for people in higher risk levels for better credit card management.\n",
    "\n",
    "This could lead to questions like: How can we increase efficiency as well as create a low-risk environment where everyone can afford to have a credit card?"
   ]
  },
  {
   "cell_type": "code",
   "execution_count": null,
   "metadata": {},
   "outputs": [],
   "source": []
  }
 ],
 "metadata": {
  "kernelspec": {
   "display_name": "R",
   "language": "R",
   "name": "ir"
  },
  "language_info": {
   "codemirror_mode": "r",
   "file_extension": ".r",
   "mimetype": "text/x-r-source",
   "name": "R",
   "pygments_lexer": "r",
   "version": "4.1.3"
  },
  "vscode": {
   "interpreter": {
    "hash": "8133a5e7c9d8e93edbb45f51b1c79401dfa1760be7f0c80fdbed489d84f53a6b"
   }
  }
 },
 "nbformat": 4,
 "nbformat_minor": 4
}
