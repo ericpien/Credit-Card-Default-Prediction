{
 "cells": [
  {
   "cell_type": "markdown",
   "metadata": {},
   "source": [
    "## Notes"
   ]
  },
  {
   "cell_type": "code",
   "execution_count": 93,
   "metadata": {
    "vscode": {
     "languageId": "r"
    }
   },
   "outputs": [],
   "source": [
    "# Environment Setup\n",
    "library(tidyverse)\n",
    "library(tidymodels)\n",
    "library(readxl)\n",
    "\n",
    "options(repr.plot.width = 10, repr.plot.height = 8)"
   ]
  },
  {
   "cell_type": "markdown",
   "metadata": {},
   "source": [
    "# Credit Card Default Prediction\n",
    "___"
   ]
  },
  {
   "cell_type": "markdown",
   "metadata": {},
   "source": [
    "## Introduction\n",
    "___"
   ]
  },
  {
   "cell_type": "markdown",
   "metadata": {
    "jupyter": {
     "source_hidden": true
    },
    "tags": []
   },
   "source": [
    "**TODO: (!!! delete below in final draft)**\n",
    "* Provide some relevant background information on the topic so that someone unfamiliar with it will be prepared to understand the rest of your proposal\n",
    "* Clearly state the question you will try to answer with your project\n",
    "* Identify and describe the dataset that will be used to answer the question\n",
    "\n",
    "#### **Background** ####\n",
    "Credit Card is an essential part of our daily lives today. Per Statista there were 76M credit cards in circulation within Canada implaying 2 per every Canadian. In addition to the impact it has on everyday citizens, credit card is booming and loan securitization is a huge business for banks and asset managers. As such, a large credit card default at a macro level could lead to systemic failures of banks and the broader capital markets similar to the one observed in GFC.\n",
    "\n",
    "#### **Thesis** ####\n",
    "Using the data and the techniques learned in class, we would like to answer the question: **can we predict the default status of a credit card client?**\n",
    "\n",
    "#### **Data** ####\n",
    "The data is from an unnamed debit and credit card issuing bank in Taiwan. The data consists of information about 30,000 customers as at October 2005, of which 23,364 (78%) have not defaulted while 6,636 (22%) have defaulted. The default status is represented as binary variable (1 = Yes, 0 = No). Variables available to be used as direct inputs are as below:\n",
    "* **X1**: Amount of Credit Given (NT$)\n",
    "* **X2**: Sex (1 = Male, 2 = Female)\n",
    "* **X3**: Education (1 = Graduate School, 2 = University, 3 = High School, 4 = Others)\n",
    "* **X4**: Marital Status (1 = Married, 2 = Single, 3 = Others)\n",
    "* **X5**: Age (# of Years)\n",
    "* **X6-X11**: Repayment Status (-1 = Clear, 1 = Payment Delay of 1 Month, 2 = Payment Delay of 2 Months, ..., 8 = Payment Delay of 8 Months, 9 = Payment Delay of 9 Months or greater)\n",
    "    * **X6**  = Repayment status in 2005-09\n",
    "    * **X7**  = Repayment status in 2005-08\n",
    "    * **X8**  = Repayment status in 2005-07\n",
    "    * **X9**  = Repayment status in 2005-06\n",
    "    * **X10** = Repayment status in 2005-05\n",
    "    * **X11** = Repayment status in 2005-04\n",
    "* **X12-X17**: Amount of Bill Statement (NT$)\n",
    "    * **X12** = Amount of Bill Statement in 2005-09\n",
    "    * **X13** = Amount of Bill Statement in 2005-08\n",
    "    * **X14** = Amount of Bill Statement in 2005-07\n",
    "    * **X15** = Amount of Bill Statement in 2005-06\n",
    "    * **X16** = Amount of Bill Statement in 2005-05\n",
    "    * **X17** = Amount of Bill Statement in 2005-04\n",
    "* **X18-X23**: Amount of Previous Payment (NT$)\n",
    "    * **X18** = Amount Paid in 2005-09\n",
    "    * **X19** = Amount Paid in 2005-08\n",
    "    * **X21** = Amount Paid in 2005-06\n",
    "    * **X20** = Amount Paid in 2005-07\n",
    "    * **X21** = Amount Paid in 2005-05\n",
    "    * **X23** = Amount Paid in 2005-04\n",
    "\n",
    "Source of Data: https://archive.ics.uci.edu/ml/datasets/default+of+credit+card+clients"
   ]
  },
  {
   "cell_type": "markdown",
   "metadata": {},
   "source": [
    "## Preliminary Exploratory Data Analysis\n",
    "___"
   ]
  },
  {
   "cell_type": "markdown",
   "metadata": {},
   "source": [
    "* Demonstrate that the dataset can be read from the web into R \n",
    "* Clean and wrangle your data into a tidy format\n",
    "* Using only **training data**, summarize the data in at least one table (this is exploratory data analysis). An example of a useful table could be one that reports the number of observations in each class, the means of the predictor variables you plan to use in your analysis and how many rows have missing data. \n",
    "* Using only **training data**, visualize the data with at least one plot relevant to the analysis you plan to do (this is exploratory data analysis). An example of a useful visualization could be one that compares the distributions of each of the predictor variables you plan to use in your analysis.\n"
   ]
  },
  {
   "cell_type": "code",
   "execution_count": 99,
   "metadata": {
    "vscode": {
     "languageId": "r"
    }
   },
   "outputs": [
    {
     "data": {
      "text/html": [
       "<table class=\"dataframe\">\n",
       "<caption>A tibble: 6 × 24</caption>\n",
       "<thead>\n",
       "\t<tr><th scope=col>credit_limit</th><th scope=col>sex</th><th scope=col>education</th><th scope=col>marital_status</th><th scope=col>age</th><th scope=col>status_09</th><th scope=col>status_08</th><th scope=col>status_07</th><th scope=col>status_06</th><th scope=col>status_05</th><th scope=col>⋯</th><th scope=col>balance_06</th><th scope=col>balance_05</th><th scope=col>balance_04</th><th scope=col>payment_09</th><th scope=col>payment_08</th><th scope=col>payment_07</th><th scope=col>payment_06</th><th scope=col>payment_05</th><th scope=col>payment_04</th><th scope=col>y</th></tr>\n",
       "\t<tr><th scope=col>&lt;dbl&gt;</th><th scope=col>&lt;dbl&gt;</th><th scope=col>&lt;dbl&gt;</th><th scope=col>&lt;dbl&gt;</th><th scope=col>&lt;dbl&gt;</th><th scope=col>&lt;dbl&gt;</th><th scope=col>&lt;dbl&gt;</th><th scope=col>&lt;dbl&gt;</th><th scope=col>&lt;dbl&gt;</th><th scope=col>&lt;dbl&gt;</th><th scope=col>⋯</th><th scope=col>&lt;dbl&gt;</th><th scope=col>&lt;dbl&gt;</th><th scope=col>&lt;dbl&gt;</th><th scope=col>&lt;dbl&gt;</th><th scope=col>&lt;dbl&gt;</th><th scope=col>&lt;dbl&gt;</th><th scope=col>&lt;dbl&gt;</th><th scope=col>&lt;dbl&gt;</th><th scope=col>&lt;dbl&gt;</th><th scope=col>&lt;dbl&gt;</th></tr>\n",
       "</thead>\n",
       "<tbody>\n",
       "\t<tr><td> 20000</td><td>2</td><td>2</td><td>1</td><td>24</td><td> 2</td><td>2</td><td>-1</td><td>-1</td><td>-2</td><td>⋯</td><td>    0</td><td>    0</td><td>    0</td><td>   0</td><td>  689</td><td>    0</td><td>   0</td><td>   0</td><td>   0</td><td>1</td></tr>\n",
       "\t<tr><td>120000</td><td>2</td><td>2</td><td>2</td><td>26</td><td>-1</td><td>2</td><td> 0</td><td> 0</td><td> 0</td><td>⋯</td><td> 3272</td><td> 3455</td><td> 3261</td><td>   0</td><td> 1000</td><td> 1000</td><td>1000</td><td>   0</td><td>2000</td><td>1</td></tr>\n",
       "\t<tr><td> 90000</td><td>2</td><td>2</td><td>2</td><td>34</td><td> 0</td><td>0</td><td> 0</td><td> 0</td><td> 0</td><td>⋯</td><td>14331</td><td>14948</td><td>15549</td><td>1518</td><td> 1500</td><td> 1000</td><td>1000</td><td>1000</td><td>5000</td><td>0</td></tr>\n",
       "\t<tr><td> 50000</td><td>2</td><td>2</td><td>1</td><td>37</td><td> 0</td><td>0</td><td> 0</td><td> 0</td><td> 0</td><td>⋯</td><td>28314</td><td>28959</td><td>29547</td><td>2000</td><td> 2019</td><td> 1200</td><td>1100</td><td>1069</td><td>1000</td><td>0</td></tr>\n",
       "\t<tr><td> 50000</td><td>1</td><td>2</td><td>1</td><td>57</td><td>-1</td><td>0</td><td>-1</td><td> 0</td><td> 0</td><td>⋯</td><td>20940</td><td>19146</td><td>19131</td><td>2000</td><td>36681</td><td>10000</td><td>9000</td><td> 689</td><td> 679</td><td>0</td></tr>\n",
       "\t<tr><td> 50000</td><td>1</td><td>1</td><td>2</td><td>37</td><td> 0</td><td>0</td><td> 0</td><td> 0</td><td> 0</td><td>⋯</td><td>19394</td><td>19619</td><td>20024</td><td>2500</td><td> 1815</td><td>  657</td><td>1000</td><td>1000</td><td> 800</td><td>0</td></tr>\n",
       "</tbody>\n",
       "</table>\n"
      ],
      "text/latex": [
       "A tibble: 6 × 24\n",
       "\\begin{tabular}{lllllllllllllllllllll}\n",
       " credit\\_limit & sex & education & marital\\_status & age & status\\_09 & status\\_08 & status\\_07 & status\\_06 & status\\_05 & ⋯ & balance\\_06 & balance\\_05 & balance\\_04 & payment\\_09 & payment\\_08 & payment\\_07 & payment\\_06 & payment\\_05 & payment\\_04 & y\\\\\n",
       " <dbl> & <dbl> & <dbl> & <dbl> & <dbl> & <dbl> & <dbl> & <dbl> & <dbl> & <dbl> & ⋯ & <dbl> & <dbl> & <dbl> & <dbl> & <dbl> & <dbl> & <dbl> & <dbl> & <dbl> & <dbl>\\\\\n",
       "\\hline\n",
       "\t  20000 & 2 & 2 & 1 & 24 &  2 & 2 & -1 & -1 & -2 & ⋯ &     0 &     0 &     0 &    0 &   689 &     0 &    0 &    0 &    0 & 1\\\\\n",
       "\t 120000 & 2 & 2 & 2 & 26 & -1 & 2 &  0 &  0 &  0 & ⋯ &  3272 &  3455 &  3261 &    0 &  1000 &  1000 & 1000 &    0 & 2000 & 1\\\\\n",
       "\t  90000 & 2 & 2 & 2 & 34 &  0 & 0 &  0 &  0 &  0 & ⋯ & 14331 & 14948 & 15549 & 1518 &  1500 &  1000 & 1000 & 1000 & 5000 & 0\\\\\n",
       "\t  50000 & 2 & 2 & 1 & 37 &  0 & 0 &  0 &  0 &  0 & ⋯ & 28314 & 28959 & 29547 & 2000 &  2019 &  1200 & 1100 & 1069 & 1000 & 0\\\\\n",
       "\t  50000 & 1 & 2 & 1 & 57 & -1 & 0 & -1 &  0 &  0 & ⋯ & 20940 & 19146 & 19131 & 2000 & 36681 & 10000 & 9000 &  689 &  679 & 0\\\\\n",
       "\t  50000 & 1 & 1 & 2 & 37 &  0 & 0 &  0 &  0 &  0 & ⋯ & 19394 & 19619 & 20024 & 2500 &  1815 &   657 & 1000 & 1000 &  800 & 0\\\\\n",
       "\\end{tabular}\n"
      ],
      "text/markdown": [
       "\n",
       "A tibble: 6 × 24\n",
       "\n",
       "| credit_limit &lt;dbl&gt; | sex &lt;dbl&gt; | education &lt;dbl&gt; | marital_status &lt;dbl&gt; | age &lt;dbl&gt; | status_09 &lt;dbl&gt; | status_08 &lt;dbl&gt; | status_07 &lt;dbl&gt; | status_06 &lt;dbl&gt; | status_05 &lt;dbl&gt; | ⋯ ⋯ | balance_06 &lt;dbl&gt; | balance_05 &lt;dbl&gt; | balance_04 &lt;dbl&gt; | payment_09 &lt;dbl&gt; | payment_08 &lt;dbl&gt; | payment_07 &lt;dbl&gt; | payment_06 &lt;dbl&gt; | payment_05 &lt;dbl&gt; | payment_04 &lt;dbl&gt; | y &lt;dbl&gt; |\n",
       "|---|---|---|---|---|---|---|---|---|---|---|---|---|---|---|---|---|---|---|---|---|\n",
       "|  20000 | 2 | 2 | 1 | 24 |  2 | 2 | -1 | -1 | -2 | ⋯ |     0 |     0 |     0 |    0 |   689 |     0 |    0 |    0 |    0 | 1 |\n",
       "| 120000 | 2 | 2 | 2 | 26 | -1 | 2 |  0 |  0 |  0 | ⋯ |  3272 |  3455 |  3261 |    0 |  1000 |  1000 | 1000 |    0 | 2000 | 1 |\n",
       "|  90000 | 2 | 2 | 2 | 34 |  0 | 0 |  0 |  0 |  0 | ⋯ | 14331 | 14948 | 15549 | 1518 |  1500 |  1000 | 1000 | 1000 | 5000 | 0 |\n",
       "|  50000 | 2 | 2 | 1 | 37 |  0 | 0 |  0 |  0 |  0 | ⋯ | 28314 | 28959 | 29547 | 2000 |  2019 |  1200 | 1100 | 1069 | 1000 | 0 |\n",
       "|  50000 | 1 | 2 | 1 | 57 | -1 | 0 | -1 |  0 |  0 | ⋯ | 20940 | 19146 | 19131 | 2000 | 36681 | 10000 | 9000 |  689 |  679 | 0 |\n",
       "|  50000 | 1 | 1 | 2 | 37 |  0 | 0 |  0 |  0 |  0 | ⋯ | 19394 | 19619 | 20024 | 2500 |  1815 |   657 | 1000 | 1000 |  800 | 0 |\n",
       "\n"
      ],
      "text/plain": [
       "  credit_limit sex education marital_status age status_09 status_08 status_07\n",
       "1  20000       2   2         1              24   2        2         -1       \n",
       "2 120000       2   2         2              26  -1        2          0       \n",
       "3  90000       2   2         2              34   0        0          0       \n",
       "4  50000       2   2         1              37   0        0          0       \n",
       "5  50000       1   2         1              57  -1        0         -1       \n",
       "6  50000       1   1         2              37   0        0          0       \n",
       "  status_06 status_05 <U+22EF>        balance_06 balance_05 balance_04 payment_09\n",
       "1 -1        -2        <U+22EF>     0          0          0         0      \n",
       "2  0         0        <U+22EF>  3272       3455       3261         0      \n",
       "3  0         0        <U+22EF> 14331      14948      15549      1518      \n",
       "4  0         0        <U+22EF> 28314      28959      29547      2000      \n",
       "5  0         0        <U+22EF> 20940      19146      19131      2000      \n",
       "6  0         0        <U+22EF> 19394      19619      20024      2500      \n",
       "  payment_08 payment_07 payment_06 payment_05 payment_04 y\n",
       "1   689          0         0          0          0       1\n",
       "2  1000       1000      1000          0       2000       1\n",
       "3  1500       1000      1000       1000       5000       0\n",
       "4  2019       1200      1100       1069       1000       0\n",
       "5 36681      10000      9000        689        679       0\n",
       "6  1815        657      1000       1000        800       0"
      ]
     },
     "metadata": {},
     "output_type": "display_data"
    }
   ],
   "source": [
    "columns = c('id', 'credit_limit', 'sex', 'education', 'marital_status', 'age',\n",
    "            'status_09', 'status_08', 'status_07', 'status_06', 'status_05', 'status_04',\n",
    "            'balance_09', 'balance_08', 'balance_07', 'balance_06', 'balance_05', 'balance_04',\n",
    "            'payment_09', 'payment_08', 'payment_07', 'payment_06', 'payment_05', 'payment_04',\n",
    "            'y')\n",
    "            \n",
    "credit_card_data <- read_excel('data/default of credit card clients.xls',sheet='Data',skip=2,col_names=columns) |>\n",
    "    select(-id)\n",
    "\n",
    "head(credit_card_data)"
   ]
  },
  {
   "cell_type": "code",
   "execution_count": 101,
   "metadata": {
    "vscode": {
     "languageId": "r"
    }
   },
   "outputs": [],
   "source": [
    "set.seed(154)\n",
    "credit_card_split <- credit_card_data |> initial_split(prop=0.75, strata = y)\n",
    "credit_card_train <- training(credit_card_split)\n",
    "credit_card_test <- testing(credit_card_split)"
   ]
  },
  {
   "cell_type": "code",
   "execution_count": 189,
   "metadata": {
    "vscode": {
     "languageId": "r"
    }
   },
   "outputs": [
    {
     "data": {
      "text/html": [
       "<table class=\"dataframe\">\n",
       "<caption>A tibble: 1 × 24</caption>\n",
       "<thead>\n",
       "\t<tr><th scope=col>credit_limit</th><th scope=col>sex</th><th scope=col>education</th><th scope=col>marital_status</th><th scope=col>age</th><th scope=col>status_09</th><th scope=col>status_08</th><th scope=col>status_07</th><th scope=col>status_06</th><th scope=col>status_05</th><th scope=col>⋯</th><th scope=col>balance_06</th><th scope=col>balance_05</th><th scope=col>balance_04</th><th scope=col>payment_09</th><th scope=col>payment_08</th><th scope=col>payment_07</th><th scope=col>payment_06</th><th scope=col>payment_05</th><th scope=col>payment_04</th><th scope=col>y</th></tr>\n",
       "\t<tr><th scope=col>&lt;int&gt;</th><th scope=col>&lt;int&gt;</th><th scope=col>&lt;int&gt;</th><th scope=col>&lt;int&gt;</th><th scope=col>&lt;int&gt;</th><th scope=col>&lt;int&gt;</th><th scope=col>&lt;int&gt;</th><th scope=col>&lt;int&gt;</th><th scope=col>&lt;int&gt;</th><th scope=col>&lt;int&gt;</th><th scope=col>⋯</th><th scope=col>&lt;int&gt;</th><th scope=col>&lt;int&gt;</th><th scope=col>&lt;int&gt;</th><th scope=col>&lt;int&gt;</th><th scope=col>&lt;int&gt;</th><th scope=col>&lt;int&gt;</th><th scope=col>&lt;int&gt;</th><th scope=col>&lt;int&gt;</th><th scope=col>&lt;int&gt;</th><th scope=col>&lt;int&gt;</th></tr>\n",
       "</thead>\n",
       "<tbody>\n",
       "\t<tr><td>0</td><td>0</td><td>0</td><td>0</td><td>0</td><td>0</td><td>0</td><td>0</td><td>0</td><td>0</td><td>⋯</td><td>0</td><td>0</td><td>0</td><td>0</td><td>0</td><td>0</td><td>0</td><td>0</td><td>0</td><td>0</td></tr>\n",
       "</tbody>\n",
       "</table>\n"
      ],
      "text/latex": [
       "A tibble: 1 × 24\n",
       "\\begin{tabular}{lllllllllllllllllllll}\n",
       " credit\\_limit & sex & education & marital\\_status & age & status\\_09 & status\\_08 & status\\_07 & status\\_06 & status\\_05 & ⋯ & balance\\_06 & balance\\_05 & balance\\_04 & payment\\_09 & payment\\_08 & payment\\_07 & payment\\_06 & payment\\_05 & payment\\_04 & y\\\\\n",
       " <int> & <int> & <int> & <int> & <int> & <int> & <int> & <int> & <int> & <int> & ⋯ & <int> & <int> & <int> & <int> & <int> & <int> & <int> & <int> & <int> & <int>\\\\\n",
       "\\hline\n",
       "\t 0 & 0 & 0 & 0 & 0 & 0 & 0 & 0 & 0 & 0 & ⋯ & 0 & 0 & 0 & 0 & 0 & 0 & 0 & 0 & 0 & 0\\\\\n",
       "\\end{tabular}\n"
      ],
      "text/markdown": [
       "\n",
       "A tibble: 1 × 24\n",
       "\n",
       "| credit_limit &lt;int&gt; | sex &lt;int&gt; | education &lt;int&gt; | marital_status &lt;int&gt; | age &lt;int&gt; | status_09 &lt;int&gt; | status_08 &lt;int&gt; | status_07 &lt;int&gt; | status_06 &lt;int&gt; | status_05 &lt;int&gt; | ⋯ ⋯ | balance_06 &lt;int&gt; | balance_05 &lt;int&gt; | balance_04 &lt;int&gt; | payment_09 &lt;int&gt; | payment_08 &lt;int&gt; | payment_07 &lt;int&gt; | payment_06 &lt;int&gt; | payment_05 &lt;int&gt; | payment_04 &lt;int&gt; | y &lt;int&gt; |\n",
       "|---|---|---|---|---|---|---|---|---|---|---|---|---|---|---|---|---|---|---|---|---|\n",
       "| 0 | 0 | 0 | 0 | 0 | 0 | 0 | 0 | 0 | 0 | ⋯ | 0 | 0 | 0 | 0 | 0 | 0 | 0 | 0 | 0 | 0 |\n",
       "\n"
      ],
      "text/plain": [
       "  credit_limit sex education marital_status age status_09 status_08 status_07\n",
       "1 0            0   0         0              0   0         0         0        \n",
       "  status_06 status_05 <U+22EF>        balance_06 balance_05 balance_04 payment_09\n",
       "1 0         0         <U+22EF> 0          0          0          0         \n",
       "  payment_08 payment_07 payment_06 payment_05 payment_04 y\n",
       "1 0          0          0          0          0          0"
      ]
     },
     "metadata": {},
     "output_type": "display_data"
    }
   ],
   "source": [
    "#testing for na data\n",
    "na_data_count <- sapply(credit_card_train,function(x) sum(is.na(x))) |>\n",
    "    t() |>\n",
    "    as_tibble()\n",
    "    \n",
    "na_data_count"
   ]
  },
  {
   "cell_type": "markdown",
   "metadata": {},
   "source": [
    "### Summary of Categorical Columns ###"
   ]
  },
  {
   "cell_type": "code",
   "execution_count": 181,
   "metadata": {
    "vscode": {
     "languageId": "r"
    }
   },
   "outputs": [
    {
     "data": {
      "text/html": [
       "<table class=\"dataframe\">\n",
       "<caption>A tibble: 2 × 5</caption>\n",
       "<thead>\n",
       "\t<tr><th scope=col>y</th><th scope=col>count</th><th scope=col>average_age</th><th scope=col>average_credit_limit</th><th scope=col>average_balance_09</th></tr>\n",
       "\t<tr><th scope=col>&lt;dbl&gt;</th><th scope=col>&lt;int&gt;</th><th scope=col>&lt;dbl&gt;</th><th scope=col>&lt;dbl&gt;</th><th scope=col>&lt;dbl&gt;</th></tr>\n",
       "</thead>\n",
       "<tbody>\n",
       "\t<tr><td>0</td><td>17523</td><td>35.40969</td><td>178766.3</td><td>51866.63</td></tr>\n",
       "\t<tr><td>1</td><td> 4977</td><td>35.82700</td><td>130377.3</td><td>47696.30</td></tr>\n",
       "</tbody>\n",
       "</table>\n"
      ],
      "text/latex": [
       "A tibble: 2 × 5\n",
       "\\begin{tabular}{lllll}\n",
       " y & count & average\\_age & average\\_credit\\_limit & average\\_balance\\_09\\\\\n",
       " <dbl> & <int> & <dbl> & <dbl> & <dbl>\\\\\n",
       "\\hline\n",
       "\t 0 & 17523 & 35.40969 & 178766.3 & 51866.63\\\\\n",
       "\t 1 &  4977 & 35.82700 & 130377.3 & 47696.30\\\\\n",
       "\\end{tabular}\n"
      ],
      "text/markdown": [
       "\n",
       "A tibble: 2 × 5\n",
       "\n",
       "| y &lt;dbl&gt; | count &lt;int&gt; | average_age &lt;dbl&gt; | average_credit_limit &lt;dbl&gt; | average_balance_09 &lt;dbl&gt; |\n",
       "|---|---|---|---|---|\n",
       "| 0 | 17523 | 35.40969 | 178766.3 | 51866.63 |\n",
       "| 1 |  4977 | 35.82700 | 130377.3 | 47696.30 |\n",
       "\n"
      ],
      "text/plain": [
       "  y count average_age average_credit_limit average_balance_09\n",
       "1 0 17523 35.40969    178766.3             51866.63          \n",
       "2 1  4977 35.82700    130377.3             47696.30          "
      ]
     },
     "metadata": {},
     "output_type": "display_data"
    }
   ],
   "source": [
    "credit_card_train |>\n",
    "    group_by(y) |>\n",
    "    summarize(count=n(),\n",
    "            average_age = mean(age),\n",
    "            average_credit_limit = mean(credit_limit),\n",
    "            average_balance_09 = mean(balance_09),\n",
    "            average_balance_09 = mean(balance_09))"
   ]
  },
  {
   "cell_type": "code",
   "execution_count": 182,
   "metadata": {
    "vscode": {
     "languageId": "r"
    }
   },
   "outputs": [
    {
     "data": {
      "text/html": [
       "<table class=\"dataframe\">\n",
       "<caption>A tibble: 2 × 5</caption>\n",
       "<thead>\n",
       "\t<tr><th scope=col>sex</th><th scope=col>count</th><th scope=col>average_age</th><th scope=col>average_credit_limit</th><th scope=col>average_balance_09</th></tr>\n",
       "\t<tr><th scope=col>&lt;dbl&gt;</th><th scope=col>&lt;int&gt;</th><th scope=col>&lt;dbl&gt;</th><th scope=col>&lt;dbl&gt;</th><th scope=col>&lt;dbl&gt;</th></tr>\n",
       "</thead>\n",
       "<tbody>\n",
       "\t<tr><td>1</td><td> 8919</td><td>36.51856</td><td>164356.3</td><td>53862.09</td></tr>\n",
       "\t<tr><td>2</td><td>13581</td><td>34.83440</td><td>170496.7</td><td>49027.86</td></tr>\n",
       "</tbody>\n",
       "</table>\n"
      ],
      "text/latex": [
       "A tibble: 2 × 5\n",
       "\\begin{tabular}{lllll}\n",
       " sex & count & average\\_age & average\\_credit\\_limit & average\\_balance\\_09\\\\\n",
       " <dbl> & <int> & <dbl> & <dbl> & <dbl>\\\\\n",
       "\\hline\n",
       "\t 1 &  8919 & 36.51856 & 164356.3 & 53862.09\\\\\n",
       "\t 2 & 13581 & 34.83440 & 170496.7 & 49027.86\\\\\n",
       "\\end{tabular}\n"
      ],
      "text/markdown": [
       "\n",
       "A tibble: 2 × 5\n",
       "\n",
       "| sex &lt;dbl&gt; | count &lt;int&gt; | average_age &lt;dbl&gt; | average_credit_limit &lt;dbl&gt; | average_balance_09 &lt;dbl&gt; |\n",
       "|---|---|---|---|---|\n",
       "| 1 |  8919 | 36.51856 | 164356.3 | 53862.09 |\n",
       "| 2 | 13581 | 34.83440 | 170496.7 | 49027.86 |\n",
       "\n"
      ],
      "text/plain": [
       "  sex count average_age average_credit_limit average_balance_09\n",
       "1 1    8919 36.51856    164356.3             53862.09          \n",
       "2 2   13581 34.83440    170496.7             49027.86          "
      ]
     },
     "metadata": {},
     "output_type": "display_data"
    }
   ],
   "source": [
    "credit_card_train |>\n",
    "    group_by(sex) |>\n",
    "    summarize(count=n(),\n",
    "            average_age = mean(age),\n",
    "            average_credit_limit = mean(credit_limit),\n",
    "            average_balance_09 = mean(balance_09),\n",
    "            average_balance_09 = mean(balance_09))"
   ]
  },
  {
   "cell_type": "code",
   "execution_count": 183,
   "metadata": {
    "vscode": {
     "languageId": "r"
    }
   },
   "outputs": [
    {
     "data": {
      "text/html": [
       "<table class=\"dataframe\">\n",
       "<caption>A tibble: 7 × 5</caption>\n",
       "<thead>\n",
       "\t<tr><th scope=col>education</th><th scope=col>count</th><th scope=col>average_age</th><th scope=col>average_credit_limit</th><th scope=col>average_balance_09</th></tr>\n",
       "\t<tr><th scope=col>&lt;dbl&gt;</th><th scope=col>&lt;int&gt;</th><th scope=col>&lt;dbl&gt;</th><th scope=col>&lt;dbl&gt;</th><th scope=col>&lt;dbl&gt;</th></tr>\n",
       "</thead>\n",
       "<tbody>\n",
       "\t<tr><td>0</td><td>   11</td><td>38.81818</td><td>219090.9</td><td>12670.82</td></tr>\n",
       "\t<tr><td>1</td><td> 7962</td><td>34.22143</td><td>213146.2</td><td>48448.09</td></tr>\n",
       "\t<tr><td>2</td><td>10493</td><td>34.78500</td><td>148308.0</td><td>53463.19</td></tr>\n",
       "\t<tr><td>3</td><td> 3702</td><td>40.22447</td><td>126155.5</td><td>46874.74</td></tr>\n",
       "\t<tr><td>4</td><td>   84</td><td>33.61905</td><td>219285.7</td><td>58567.31</td></tr>\n",
       "\t<tr><td>5</td><td>  207</td><td>35.57971</td><td>164521.7</td><td>85266.74</td></tr>\n",
       "\t<tr><td>6</td><td>   41</td><td>43.85366</td><td>151951.2</td><td>79780.10</td></tr>\n",
       "</tbody>\n",
       "</table>\n"
      ],
      "text/latex": [
       "A tibble: 7 × 5\n",
       "\\begin{tabular}{lllll}\n",
       " education & count & average\\_age & average\\_credit\\_limit & average\\_balance\\_09\\\\\n",
       " <dbl> & <int> & <dbl> & <dbl> & <dbl>\\\\\n",
       "\\hline\n",
       "\t 0 &    11 & 38.81818 & 219090.9 & 12670.82\\\\\n",
       "\t 1 &  7962 & 34.22143 & 213146.2 & 48448.09\\\\\n",
       "\t 2 & 10493 & 34.78500 & 148308.0 & 53463.19\\\\\n",
       "\t 3 &  3702 & 40.22447 & 126155.5 & 46874.74\\\\\n",
       "\t 4 &    84 & 33.61905 & 219285.7 & 58567.31\\\\\n",
       "\t 5 &   207 & 35.57971 & 164521.7 & 85266.74\\\\\n",
       "\t 6 &    41 & 43.85366 & 151951.2 & 79780.10\\\\\n",
       "\\end{tabular}\n"
      ],
      "text/markdown": [
       "\n",
       "A tibble: 7 × 5\n",
       "\n",
       "| education &lt;dbl&gt; | count &lt;int&gt; | average_age &lt;dbl&gt; | average_credit_limit &lt;dbl&gt; | average_balance_09 &lt;dbl&gt; |\n",
       "|---|---|---|---|---|\n",
       "| 0 |    11 | 38.81818 | 219090.9 | 12670.82 |\n",
       "| 1 |  7962 | 34.22143 | 213146.2 | 48448.09 |\n",
       "| 2 | 10493 | 34.78500 | 148308.0 | 53463.19 |\n",
       "| 3 |  3702 | 40.22447 | 126155.5 | 46874.74 |\n",
       "| 4 |    84 | 33.61905 | 219285.7 | 58567.31 |\n",
       "| 5 |   207 | 35.57971 | 164521.7 | 85266.74 |\n",
       "| 6 |    41 | 43.85366 | 151951.2 | 79780.10 |\n",
       "\n"
      ],
      "text/plain": [
       "  education count average_age average_credit_limit average_balance_09\n",
       "1 0            11 38.81818    219090.9             12670.82          \n",
       "2 1          7962 34.22143    213146.2             48448.09          \n",
       "3 2         10493 34.78500    148308.0             53463.19          \n",
       "4 3          3702 40.22447    126155.5             46874.74          \n",
       "5 4            84 33.61905    219285.7             58567.31          \n",
       "6 5           207 35.57971    164521.7             85266.74          \n",
       "7 6            41 43.85366    151951.2             79780.10          "
      ]
     },
     "metadata": {},
     "output_type": "display_data"
    }
   ],
   "source": [
    "credit_card_train |>\n",
    "    group_by(education) |>\n",
    "    summarize(count=n(),\n",
    "            average_age = mean(age),\n",
    "            average_credit_limit = mean(credit_limit),\n",
    "            average_balance_09 = mean(balance_09),\n",
    "            average_balance_09 = mean(balance_09))"
   ]
  },
  {
   "cell_type": "code",
   "execution_count": 184,
   "metadata": {
    "vscode": {
     "languageId": "r"
    }
   },
   "outputs": [
    {
     "data": {
      "text/html": [
       "<table class=\"dataframe\">\n",
       "<caption>A tibble: 4 × 5</caption>\n",
       "<thead>\n",
       "\t<tr><th scope=col>marital_status</th><th scope=col>count</th><th scope=col>average_age</th><th scope=col>average_credit_limit</th><th scope=col>average_balance_09</th></tr>\n",
       "\t<tr><th scope=col>&lt;dbl&gt;</th><th scope=col>&lt;int&gt;</th><th scope=col>&lt;dbl&gt;</th><th scope=col>&lt;dbl&gt;</th><th scope=col>&lt;dbl&gt;</th></tr>\n",
       "</thead>\n",
       "<tbody>\n",
       "\t<tr><td>0</td><td>   39</td><td>37.53846</td><td>133846.2</td><td>20942.15</td></tr>\n",
       "\t<tr><td>1</td><td>10270</td><td>40.02561</td><td>181968.1</td><td>52493.60</td></tr>\n",
       "\t<tr><td>2</td><td>11949</td><td>31.46715</td><td>157597.1</td><td>49805.05</td></tr>\n",
       "\t<tr><td>3</td><td>  242</td><td>42.42562</td><td>100206.6</td><td>46268.08</td></tr>\n",
       "</tbody>\n",
       "</table>\n"
      ],
      "text/latex": [
       "A tibble: 4 × 5\n",
       "\\begin{tabular}{lllll}\n",
       " marital\\_status & count & average\\_age & average\\_credit\\_limit & average\\_balance\\_09\\\\\n",
       " <dbl> & <int> & <dbl> & <dbl> & <dbl>\\\\\n",
       "\\hline\n",
       "\t 0 &    39 & 37.53846 & 133846.2 & 20942.15\\\\\n",
       "\t 1 & 10270 & 40.02561 & 181968.1 & 52493.60\\\\\n",
       "\t 2 & 11949 & 31.46715 & 157597.1 & 49805.05\\\\\n",
       "\t 3 &   242 & 42.42562 & 100206.6 & 46268.08\\\\\n",
       "\\end{tabular}\n"
      ],
      "text/markdown": [
       "\n",
       "A tibble: 4 × 5\n",
       "\n",
       "| marital_status &lt;dbl&gt; | count &lt;int&gt; | average_age &lt;dbl&gt; | average_credit_limit &lt;dbl&gt; | average_balance_09 &lt;dbl&gt; |\n",
       "|---|---|---|---|---|\n",
       "| 0 |    39 | 37.53846 | 133846.2 | 20942.15 |\n",
       "| 1 | 10270 | 40.02561 | 181968.1 | 52493.60 |\n",
       "| 2 | 11949 | 31.46715 | 157597.1 | 49805.05 |\n",
       "| 3 |   242 | 42.42562 | 100206.6 | 46268.08 |\n",
       "\n"
      ],
      "text/plain": [
       "  marital_status count average_age average_credit_limit average_balance_09\n",
       "1 0                 39 37.53846    133846.2             20942.15          \n",
       "2 1              10270 40.02561    181968.1             52493.60          \n",
       "3 2              11949 31.46715    157597.1             49805.05          \n",
       "4 3                242 42.42562    100206.6             46268.08          "
      ]
     },
     "metadata": {},
     "output_type": "display_data"
    }
   ],
   "source": [
    "credit_card_train |>\n",
    "    group_by(marital_status) |>\n",
    "    summarize(count=n(),\n",
    "            average_age = mean(age),\n",
    "            average_credit_limit = mean(credit_limit),\n",
    "            average_balance_09 = mean(balance_09),\n",
    "            average_balance_09 = mean(balance_09))"
   ]
  },
  {
   "cell_type": "markdown",
   "metadata": {},
   "source": [
    "### Summary of Numeric Columns ###"
   ]
  },
  {
   "cell_type": "code",
   "execution_count": null,
   "metadata": {
    "vscode": {
     "languageId": "r"
    }
   },
   "outputs": [],
   "source": [
    "numeric_cols_train <- credit_card_train |>\n",
    "    select(-sex, -education, -marital_status, -status_09, -status_08, -status_07, -status_06, -status_05, -status_04)\n",
    "\n",
    "min_0 <- apply(filter(numeric_cols_train, y == 0), 2, min, na.rm = TRUE)\n",
    "average_0 <- apply(filter(numeric_cols_train, y == 0), 2, mean, na.rm = TRUE)\n",
    "median_0 <- apply(filter(numeric_cols_train, y == 0), 2, median, na.rm = TRUE)\n",
    "max_0 <- apply(filter(numeric_cols_train, y == 0), 2, max, na.rm = TRUE)\n",
    "\n",
    "min_1 <- apply(filter(numeric_cols_train, y == 1), 2, min, na.rm = TRUE)\n",
    "average_1 <- apply(filter(numeric_cols_train, y == 1), 2, mean, na.rm = TRUE)\n",
    "median_1 <- apply(filter(numeric_cols_train, y == 1), 2, median, na.rm = TRUE)\n",
    "max_1 <- apply(filter(numeric_cols_train, y == 1), 2, max, na.rm = TRUE)"
   ]
  },
  {
   "cell_type": "code",
   "execution_count": 158,
   "metadata": {
    "vscode": {
     "languageId": "r"
    }
   },
   "outputs": [
    {
     "data": {
      "text/html": [
       "<table class=\"dataframe\">\n",
       "<caption>A tibble: 8 × 16</caption>\n",
       "<thead>\n",
       "\t<tr><th scope=col>y</th><th scope=col>info</th><th scope=col>credit_limit</th><th scope=col>age</th><th scope=col>balance_09</th><th scope=col>balance_08</th><th scope=col>balance_07</th><th scope=col>balance_06</th><th scope=col>balance_05</th><th scope=col>balance_04</th><th scope=col>payment_09</th><th scope=col>payment_08</th><th scope=col>payment_07</th><th scope=col>payment_06</th><th scope=col>payment_05</th><th scope=col>payment_04</th></tr>\n",
       "\t<tr><th scope=col>&lt;dbl&gt;</th><th scope=col>&lt;chr&gt;</th><th scope=col>&lt;dbl&gt;</th><th scope=col>&lt;dbl&gt;</th><th scope=col>&lt;dbl&gt;</th><th scope=col>&lt;dbl&gt;</th><th scope=col>&lt;dbl&gt;</th><th scope=col>&lt;dbl&gt;</th><th scope=col>&lt;dbl&gt;</th><th scope=col>&lt;dbl&gt;</th><th scope=col>&lt;dbl&gt;</th><th scope=col>&lt;dbl&gt;</th><th scope=col>&lt;dbl&gt;</th><th scope=col>&lt;dbl&gt;</th><th scope=col>&lt;dbl&gt;</th><th scope=col>&lt;dbl&gt;</th></tr>\n",
       "</thead>\n",
       "<tbody>\n",
       "\t<tr><td>0</td><td>Min   </td><td>  10000.0</td><td>21.00000</td><td>-165580.00</td><td>-69777.00</td><td>-157264.00</td><td>-170000.00</td><td>-81334.00</td><td>-209051.00</td><td>     0.000</td><td>      0.000</td><td>     0.000</td><td>     0.000</td><td>     0.000</td><td>     0.00</td></tr>\n",
       "\t<tr><td>0</td><td>Mean  </td><td> 178766.3</td><td>35.40969</td><td>  51866.63</td><td> 49686.60</td><td>  47550.70</td><td>  43656.70</td><td> 40764.53</td><td>  39372.77</td><td>  6313.638</td><td>   6643.116</td><td>  5831.461</td><td>  5316.808</td><td>  5370.884</td><td>  5778.33</td></tr>\n",
       "\t<tr><td>0</td><td>Median</td><td> 150000.0</td><td>34.00000</td><td>  22672.00</td><td> 21146.00</td><td>  20012.00</td><td>  18887.00</td><td> 17850.00</td><td>  16617.00</td><td>  2410.000</td><td>   2249.000</td><td>  2000.000</td><td>  1714.000</td><td>  1774.000</td><td>  1710.00</td></tr>\n",
       "\t<tr><td>0</td><td>Max   </td><td>1000000.0</td><td>79.00000</td><td> 964511.00</td><td>983931.00</td><td>1664089.00</td><td> 891586.00</td><td>927171.00</td><td> 961664.00</td><td>873552.000</td><td>1684259.000</td><td>896040.000</td><td>621000.000</td><td>426529.000</td><td>528666.00</td></tr>\n",
       "\t<tr><td>1</td><td>Min   </td><td>  10000.0</td><td>21.00000</td><td>  -6676.00</td><td>-17710.00</td><td> -61506.00</td><td> -50616.00</td><td>-53007.00</td><td> -94625.00</td><td>     0.000</td><td>      0.000</td><td>     0.000</td><td>     0.000</td><td>     0.000</td><td>     0.00</td></tr>\n",
       "\t<tr><td>1</td><td>Mean  </td><td> 130377.3</td><td>35.82700</td><td>  47696.30</td><td> 46498.54</td><td>  44411.35</td><td>  41452.31</td><td> 38983.00</td><td>  37697.45</td><td>  3240.056</td><td>   3385.959</td><td>  3288.094</td><td>  3186.211</td><td>  3118.103</td><td>  3229.31</td></tr>\n",
       "\t<tr><td>1</td><td>Median</td><td>  90000.0</td><td>34.00000</td><td>  19930.00</td><td> 19974.00</td><td>  19590.00</td><td>  18919.00</td><td> 18160.00</td><td>  17786.00</td><td>  1600.000</td><td>   1500.000</td><td>  1200.000</td><td>  1000.000</td><td>  1000.000</td><td>  1000.00</td></tr>\n",
       "\t<tr><td>1</td><td>Max   </td><td> 740000.0</td><td>75.00000</td><td> 613860.00</td><td>572677.00</td><td> 578971.00</td><td> 541019.00</td><td>547880.00</td><td> 514975.00</td><td>235728.000</td><td> 358689.000</td><td>319494.000</td><td>432130.000</td><td>287982.000</td><td>228548.00</td></tr>\n",
       "</tbody>\n",
       "</table>\n"
      ],
      "text/latex": [
       "A tibble: 8 × 16\n",
       "\\begin{tabular}{llllllllllllllll}\n",
       " y & info & credit\\_limit & age & balance\\_09 & balance\\_08 & balance\\_07 & balance\\_06 & balance\\_05 & balance\\_04 & payment\\_09 & payment\\_08 & payment\\_07 & payment\\_06 & payment\\_05 & payment\\_04\\\\\n",
       " <dbl> & <chr> & <dbl> & <dbl> & <dbl> & <dbl> & <dbl> & <dbl> & <dbl> & <dbl> & <dbl> & <dbl> & <dbl> & <dbl> & <dbl> & <dbl>\\\\\n",
       "\\hline\n",
       "\t 0 & Min    &   10000.0 & 21.00000 & -165580.00 & -69777.00 & -157264.00 & -170000.00 & -81334.00 & -209051.00 &      0.000 &       0.000 &      0.000 &      0.000 &      0.000 &      0.00\\\\\n",
       "\t 0 & Mean   &  178766.3 & 35.40969 &   51866.63 &  49686.60 &   47550.70 &   43656.70 &  40764.53 &   39372.77 &   6313.638 &    6643.116 &   5831.461 &   5316.808 &   5370.884 &   5778.33\\\\\n",
       "\t 0 & Median &  150000.0 & 34.00000 &   22672.00 &  21146.00 &   20012.00 &   18887.00 &  17850.00 &   16617.00 &   2410.000 &    2249.000 &   2000.000 &   1714.000 &   1774.000 &   1710.00\\\\\n",
       "\t 0 & Max    & 1000000.0 & 79.00000 &  964511.00 & 983931.00 & 1664089.00 &  891586.00 & 927171.00 &  961664.00 & 873552.000 & 1684259.000 & 896040.000 & 621000.000 & 426529.000 & 528666.00\\\\\n",
       "\t 1 & Min    &   10000.0 & 21.00000 &   -6676.00 & -17710.00 &  -61506.00 &  -50616.00 & -53007.00 &  -94625.00 &      0.000 &       0.000 &      0.000 &      0.000 &      0.000 &      0.00\\\\\n",
       "\t 1 & Mean   &  130377.3 & 35.82700 &   47696.30 &  46498.54 &   44411.35 &   41452.31 &  38983.00 &   37697.45 &   3240.056 &    3385.959 &   3288.094 &   3186.211 &   3118.103 &   3229.31\\\\\n",
       "\t 1 & Median &   90000.0 & 34.00000 &   19930.00 &  19974.00 &   19590.00 &   18919.00 &  18160.00 &   17786.00 &   1600.000 &    1500.000 &   1200.000 &   1000.000 &   1000.000 &   1000.00\\\\\n",
       "\t 1 & Max    &  740000.0 & 75.00000 &  613860.00 & 572677.00 &  578971.00 &  541019.00 & 547880.00 &  514975.00 & 235728.000 &  358689.000 & 319494.000 & 432130.000 & 287982.000 & 228548.00\\\\\n",
       "\\end{tabular}\n"
      ],
      "text/markdown": [
       "\n",
       "A tibble: 8 × 16\n",
       "\n",
       "| y &lt;dbl&gt; | info &lt;chr&gt; | credit_limit &lt;dbl&gt; | age &lt;dbl&gt; | balance_09 &lt;dbl&gt; | balance_08 &lt;dbl&gt; | balance_07 &lt;dbl&gt; | balance_06 &lt;dbl&gt; | balance_05 &lt;dbl&gt; | balance_04 &lt;dbl&gt; | payment_09 &lt;dbl&gt; | payment_08 &lt;dbl&gt; | payment_07 &lt;dbl&gt; | payment_06 &lt;dbl&gt; | payment_05 &lt;dbl&gt; | payment_04 &lt;dbl&gt; |\n",
       "|---|---|---|---|---|---|---|---|---|---|---|---|---|---|---|---|\n",
       "| 0 | Min    |   10000.0 | 21.00000 | -165580.00 | -69777.00 | -157264.00 | -170000.00 | -81334.00 | -209051.00 |      0.000 |       0.000 |      0.000 |      0.000 |      0.000 |      0.00 |\n",
       "| 0 | Mean   |  178766.3 | 35.40969 |   51866.63 |  49686.60 |   47550.70 |   43656.70 |  40764.53 |   39372.77 |   6313.638 |    6643.116 |   5831.461 |   5316.808 |   5370.884 |   5778.33 |\n",
       "| 0 | Median |  150000.0 | 34.00000 |   22672.00 |  21146.00 |   20012.00 |   18887.00 |  17850.00 |   16617.00 |   2410.000 |    2249.000 |   2000.000 |   1714.000 |   1774.000 |   1710.00 |\n",
       "| 0 | Max    | 1000000.0 | 79.00000 |  964511.00 | 983931.00 | 1664089.00 |  891586.00 | 927171.00 |  961664.00 | 873552.000 | 1684259.000 | 896040.000 | 621000.000 | 426529.000 | 528666.00 |\n",
       "| 1 | Min    |   10000.0 | 21.00000 |   -6676.00 | -17710.00 |  -61506.00 |  -50616.00 | -53007.00 |  -94625.00 |      0.000 |       0.000 |      0.000 |      0.000 |      0.000 |      0.00 |\n",
       "| 1 | Mean   |  130377.3 | 35.82700 |   47696.30 |  46498.54 |   44411.35 |   41452.31 |  38983.00 |   37697.45 |   3240.056 |    3385.959 |   3288.094 |   3186.211 |   3118.103 |   3229.31 |\n",
       "| 1 | Median |   90000.0 | 34.00000 |   19930.00 |  19974.00 |   19590.00 |   18919.00 |  18160.00 |   17786.00 |   1600.000 |    1500.000 |   1200.000 |   1000.000 |   1000.000 |   1000.00 |\n",
       "| 1 | Max    |  740000.0 | 75.00000 |  613860.00 | 572677.00 |  578971.00 |  541019.00 | 547880.00 |  514975.00 | 235728.000 |  358689.000 | 319494.000 | 432130.000 | 287982.000 | 228548.00 |\n",
       "\n"
      ],
      "text/plain": [
       "  y info   credit_limit age      balance_09 balance_08 balance_07 balance_06\n",
       "1 0 Min      10000.0    21.00000 -165580.00 -69777.00  -157264.00 -170000.00\n",
       "2 0 Mean    178766.3    35.40969   51866.63  49686.60    47550.70   43656.70\n",
       "3 0 Median  150000.0    34.00000   22672.00  21146.00    20012.00   18887.00\n",
       "4 0 Max    1000000.0    79.00000  964511.00 983931.00  1664089.00  891586.00\n",
       "5 1 Min      10000.0    21.00000   -6676.00 -17710.00   -61506.00  -50616.00\n",
       "6 1 Mean    130377.3    35.82700   47696.30  46498.54    44411.35   41452.31\n",
       "7 1 Median   90000.0    34.00000   19930.00  19974.00    19590.00   18919.00\n",
       "8 1 Max     740000.0    75.00000  613860.00 572677.00   578971.00  541019.00\n",
       "  balance_05 balance_04 payment_09 payment_08  payment_07 payment_06 payment_05\n",
       "1 -81334.00  -209051.00      0.000       0.000      0.000      0.000      0.000\n",
       "2  40764.53    39372.77   6313.638    6643.116   5831.461   5316.808   5370.884\n",
       "3  17850.00    16617.00   2410.000    2249.000   2000.000   1714.000   1774.000\n",
       "4 927171.00   961664.00 873552.000 1684259.000 896040.000 621000.000 426529.000\n",
       "5 -53007.00   -94625.00      0.000       0.000      0.000      0.000      0.000\n",
       "6  38983.00    37697.45   3240.056    3385.959   3288.094   3186.211   3118.103\n",
       "7  18160.00    17786.00   1600.000    1500.000   1200.000   1000.000   1000.000\n",
       "8 547880.00   514975.00 235728.000  358689.000 319494.000 432130.000 287982.000\n",
       "  payment_04\n",
       "1      0.00 \n",
       "2   5778.33 \n",
       "3   1710.00 \n",
       "4 528666.00 \n",
       "5      0.00 \n",
       "6   3229.31 \n",
       "7   1000.00 \n",
       "8 228548.00 "
      ]
     },
     "metadata": {},
     "output_type": "display_data"
    }
   ],
   "source": [
    "numeric_cols_summary <- rbind(min_0, average_0, median_0, max_0, min_1, average_1, median_1, max_1) |>\n",
    "    as_tibble() |>\n",
    "    mutate(info = c('Min','Mean','Median','Max','Min','Mean','Median','Max')) |>\n",
    "    relocate(y,.before=credit_limit) |>\n",
    "    relocate(info,.before=credit_limit)\n",
    "\n",
    "numeric_cols_summary"
   ]
  },
  {
   "cell_type": "markdown",
   "metadata": {},
   "source": [
    "## Methods\n",
    "___"
   ]
  },
  {
   "cell_type": "markdown",
   "metadata": {},
   "source": [
    "* Explain how you will conduct either your data analysis and which variables/columns you will use. <u>Note - you do not need to use all variables/columns that exist in the raw data set. In fact, that's often not a good idea. For each variable think: is this a useful variable for prediction?</u>\n",
    "* Describe at least one way that you will visualize the results"
   ]
  },
  {
   "cell_type": "markdown",
   "metadata": {},
   "source": [
    "## Expected Outcomes and Significance\n",
    "___"
   ]
  },
  {
   "cell_type": "markdown",
   "metadata": {},
   "source": [
    "* What do you expect to find?\n",
    "* What impact could such findings have?\n",
    "* What future questions could this lead to?"
   ]
  },
  {
   "cell_type": "markdown",
   "metadata": {},
   "source": [
    "Using this data and applying the information we learned in this course, we plan to predict the default status of a credit card client using Machine Learning.\n",
    "\n",
    "With this data and predictions, we can:\n",
    "\n",
    "1: Create a less risky credit environment for both banks and people\n",
    "2: Provide better rates for less-risky credit card owners\n",
    "3: Develop educational programs for people in higher risk levels for better credit card management.\n",
    "\n",
    "This could lead to questions like: How can we increase efficiency as well as create a low-risk environment where everyone can afford to have a credit card?"
   ]
  },
  {
   "cell_type": "code",
   "execution_count": null,
   "metadata": {
    "vscode": {
     "languageId": "r"
    }
   },
   "outputs": [],
   "source": []
  }
 ],
 "metadata": {
  "kernelspec": {
   "display_name": "R",
   "language": "R",
   "name": "ir"
  },
  "language_info": {
   "codemirror_mode": "r",
   "file_extension": ".r",
   "mimetype": "text/x-r-source",
   "name": "R",
   "pygments_lexer": "r",
   "version": "4.1.3"
  },
  "vscode": {
   "interpreter": {
    "hash": "8133a5e7c9d8e93edbb45f51b1c79401dfa1760be7f0c80fdbed489d84f53a6b"
   }
  }
 },
 "nbformat": 4,
 "nbformat_minor": 4
}
