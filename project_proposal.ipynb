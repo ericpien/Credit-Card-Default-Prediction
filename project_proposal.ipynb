{
 "cells": [
  {
   "cell_type": "markdown",
   "metadata": {},
   "source": [
    "## Notes"
   ]
  },
  {
   "cell_type": "code",
   "execution_count": 1,
   "metadata": {
    "vscode": {
     "languageId": "r"
    }
   },
   "outputs": [],
   "source": [
    "# Environment Setup\n",
    "library(tidyverse)\n",
    "library(tidymodels)\n",
    "library(readxl)\n",
    "\n",
    "options(repr.plot.width = 10, repr.plot.height = 8)"
   ]
  },
  {
   "cell_type": "markdown",
   "metadata": {},
   "source": [
    "# Credit Card Default Prediction\n",
    "___"
   ]
  },
  {
   "cell_type": "markdown",
   "metadata": {},
   "source": [
    "## Introduction\n",
    "___"
   ]
  },
  {
   "cell_type": "markdown",
   "metadata": {},
   "source": [
    "**TODO: (!!! delete below in final draft)**\n",
    "* Provide some relevant background information on the topic so that someone unfamiliar with it will be prepared to understand the rest of your proposal\n",
    "* Clearly state the question you will try to answer with your project\n",
    "* Identify and describe the dataset that will be used to answer the question\n",
    "\n",
    "#### **Background** ####\n",
    "Credit Card is an essential part of our daily lives today. Per Statista there were 76M credit cards in circulation within Canada implaying 2 per every Canadian. In addition to the impact it has on everyday citizens, credit card is booming and loan securitization is a huge business for banks and asset managers. As such, a large credit card default at a macro level could lead to systemic failures of banks and the broader capital markets similar to the one observed in GFC.\n",
    "\n",
    "#### **Thesis** ####\n",
    "Using the data and the techniques learned in class, we would like to answer the question: **can we predict the default status of a credit card client?**\n",
    "\n",
    "#### **Data** ####\n",
    "The data is from an unnamed debit and credit card issuing bank in Taiwan. The data consists of information about 30,000 customers as at October 2005, of which 23,364 (78%) have not defaulted while 6,636 (22%) have defaulted. The default status is represented as binary variable (1 = Yes, 0 = No). Variables available to be used as direct inputs are as below:\n",
    "* **X1**: Amount of Credit Given (NT$)\n",
    "* **X2**: Sex (1 = Male, 2 = Female)\n",
    "* **X3**: Education (1 = Graduate School, 2 = University, 3 = High School, 4 = Others)\n",
    "* **X4**: Marital Status (1 = Married, 2 = Single, 3 = Others)\n",
    "* **X5**: Age (# of Years)\n",
    "* **X6-X11**: Repayment Status (-1 = Clear, 1 = Payment Delay of 1 Month, 2 = Payment Delay of 2 Months, ..., 8 = Payment Delay of 8 Months, 9 = Payment Delay of 9 Months or greater)\n",
    "    * **X6**  = Repayment status in 2005-09\n",
    "    * **X7**  = Repayment status in 2005-08\n",
    "    * **X8**  = Repayment status in 2005-07\n",
    "    * **X9**  = Repayment status in 2005-06\n",
    "    * **X10** = Repayment status in 2005-05\n",
    "    * **X11** = Repayment status in 2005-04\n",
    "* **X12-X17**: Amount of Bill Statement (NT$)\n",
    "    * **X12** = Amount of Bill Statement in 2005-09\n",
    "    * **X13** = Amount of Bill Statement in 2005-08\n",
    "    * **X14** = Amount of Bill Statement in 2005-07\n",
    "    * **X15** = Amount of Bill Statement in 2005-06\n",
    "    * **X16** = Amount of Bill Statement in 2005-05\n",
    "    * **X17** = Amount of Bill Statement in 2005-04\n",
    "* **X18-X23**: Amount of Previous Payment (NT$)\n",
    "    * **X18** = Amount Paid in 2005-09\n",
    "    * **X19** = Amount Paid in 2005-08\n",
    "    * **X21** = Amount Paid in 2005-06\n",
    "    * **X20** = Amount Paid in 2005-07\n",
    "    * **X21** = Amount Paid in 2005-05\n",
    "    * **X23** = Amount Paid in 2005-04\n",
    "\n",
    "Source of Data: https://archive.ics.uci.edu/ml/datasets/default+of+credit+card+clients"
   ]
  },
  {
   "cell_type": "markdown",
   "metadata": {},
   "source": [
    "## Preliminary Exploratory Data Analysis\n",
    "___"
   ]
  },
  {
   "cell_type": "markdown",
   "metadata": {},
   "source": [
    "* Demonstrate that the dataset can be read from the web into R \n",
    "* Clean and wrangle your data into a tidy format\n",
    "* Using only **training data**, summarize the data in at least one table (this is exploratory data analysis). An example of a useful table could be one that reports the number of observations in each class, the means of the predictor variables you plan to use in your analysis and how many rows have missing data. \n",
    "* Using only **training data**, visualize the data with at least one plot relevant to the analysis you plan to do (this is exploratory data analysis). An example of a useful visualization could be one that compares the distributions of each of the predictor variables you plan to use in your analysis.\n"
   ]
  },
  {
   "cell_type": "code",
   "execution_count": 2,
   "metadata": {
    "vscode": {
     "languageId": "r"
    }
   },
   "outputs": [
    {
     "data": {
      "text/html": [
       "<table class=\"dataframe\">\n",
       "<caption>A tibble: 6 × 24</caption>\n",
       "<thead>\n",
       "\t<tr><th scope=col>credit_limit</th><th scope=col>sex</th><th scope=col>education</th><th scope=col>marital_status</th><th scope=col>age</th><th scope=col>status_09</th><th scope=col>status_08</th><th scope=col>status_07</th><th scope=col>status_06</th><th scope=col>status_05</th><th scope=col>⋯</th><th scope=col>balance_06</th><th scope=col>balance_05</th><th scope=col>balance_04</th><th scope=col>payment_09</th><th scope=col>payment_08</th><th scope=col>payment_07</th><th scope=col>payment_06</th><th scope=col>payment_05</th><th scope=col>payment_04</th><th scope=col>y</th></tr>\n",
       "\t<tr><th scope=col>&lt;dbl&gt;</th><th scope=col>&lt;dbl&gt;</th><th scope=col>&lt;dbl&gt;</th><th scope=col>&lt;dbl&gt;</th><th scope=col>&lt;dbl&gt;</th><th scope=col>&lt;dbl&gt;</th><th scope=col>&lt;dbl&gt;</th><th scope=col>&lt;dbl&gt;</th><th scope=col>&lt;dbl&gt;</th><th scope=col>&lt;dbl&gt;</th><th scope=col>⋯</th><th scope=col>&lt;dbl&gt;</th><th scope=col>&lt;dbl&gt;</th><th scope=col>&lt;dbl&gt;</th><th scope=col>&lt;dbl&gt;</th><th scope=col>&lt;dbl&gt;</th><th scope=col>&lt;dbl&gt;</th><th scope=col>&lt;dbl&gt;</th><th scope=col>&lt;dbl&gt;</th><th scope=col>&lt;dbl&gt;</th><th scope=col>&lt;dbl&gt;</th></tr>\n",
       "</thead>\n",
       "<tbody>\n",
       "\t<tr><td> 20000</td><td>2</td><td>2</td><td>1</td><td>24</td><td> 2</td><td>2</td><td>-1</td><td>-1</td><td>-2</td><td>⋯</td><td>    0</td><td>    0</td><td>    0</td><td>   0</td><td>  689</td><td>    0</td><td>   0</td><td>   0</td><td>   0</td><td>1</td></tr>\n",
       "\t<tr><td>120000</td><td>2</td><td>2</td><td>2</td><td>26</td><td>-1</td><td>2</td><td> 0</td><td> 0</td><td> 0</td><td>⋯</td><td> 3272</td><td> 3455</td><td> 3261</td><td>   0</td><td> 1000</td><td> 1000</td><td>1000</td><td>   0</td><td>2000</td><td>1</td></tr>\n",
       "\t<tr><td> 90000</td><td>2</td><td>2</td><td>2</td><td>34</td><td> 0</td><td>0</td><td> 0</td><td> 0</td><td> 0</td><td>⋯</td><td>14331</td><td>14948</td><td>15549</td><td>1518</td><td> 1500</td><td> 1000</td><td>1000</td><td>1000</td><td>5000</td><td>0</td></tr>\n",
       "\t<tr><td> 50000</td><td>2</td><td>2</td><td>1</td><td>37</td><td> 0</td><td>0</td><td> 0</td><td> 0</td><td> 0</td><td>⋯</td><td>28314</td><td>28959</td><td>29547</td><td>2000</td><td> 2019</td><td> 1200</td><td>1100</td><td>1069</td><td>1000</td><td>0</td></tr>\n",
       "\t<tr><td> 50000</td><td>1</td><td>2</td><td>1</td><td>57</td><td>-1</td><td>0</td><td>-1</td><td> 0</td><td> 0</td><td>⋯</td><td>20940</td><td>19146</td><td>19131</td><td>2000</td><td>36681</td><td>10000</td><td>9000</td><td> 689</td><td> 679</td><td>0</td></tr>\n",
       "\t<tr><td> 50000</td><td>1</td><td>1</td><td>2</td><td>37</td><td> 0</td><td>0</td><td> 0</td><td> 0</td><td> 0</td><td>⋯</td><td>19394</td><td>19619</td><td>20024</td><td>2500</td><td> 1815</td><td>  657</td><td>1000</td><td>1000</td><td> 800</td><td>0</td></tr>\n",
       "</tbody>\n",
       "</table>\n"
      ],
      "text/latex": [
       "A tibble: 6 × 24\n",
       "\\begin{tabular}{lllllllllllllllllllll}\n",
       " credit\\_limit & sex & education & marital\\_status & age & status\\_09 & status\\_08 & status\\_07 & status\\_06 & status\\_05 & ⋯ & balance\\_06 & balance\\_05 & balance\\_04 & payment\\_09 & payment\\_08 & payment\\_07 & payment\\_06 & payment\\_05 & payment\\_04 & y\\\\\n",
       " <dbl> & <dbl> & <dbl> & <dbl> & <dbl> & <dbl> & <dbl> & <dbl> & <dbl> & <dbl> & ⋯ & <dbl> & <dbl> & <dbl> & <dbl> & <dbl> & <dbl> & <dbl> & <dbl> & <dbl> & <dbl>\\\\\n",
       "\\hline\n",
       "\t  20000 & 2 & 2 & 1 & 24 &  2 & 2 & -1 & -1 & -2 & ⋯ &     0 &     0 &     0 &    0 &   689 &     0 &    0 &    0 &    0 & 1\\\\\n",
       "\t 120000 & 2 & 2 & 2 & 26 & -1 & 2 &  0 &  0 &  0 & ⋯ &  3272 &  3455 &  3261 &    0 &  1000 &  1000 & 1000 &    0 & 2000 & 1\\\\\n",
       "\t  90000 & 2 & 2 & 2 & 34 &  0 & 0 &  0 &  0 &  0 & ⋯ & 14331 & 14948 & 15549 & 1518 &  1500 &  1000 & 1000 & 1000 & 5000 & 0\\\\\n",
       "\t  50000 & 2 & 2 & 1 & 37 &  0 & 0 &  0 &  0 &  0 & ⋯ & 28314 & 28959 & 29547 & 2000 &  2019 &  1200 & 1100 & 1069 & 1000 & 0\\\\\n",
       "\t  50000 & 1 & 2 & 1 & 57 & -1 & 0 & -1 &  0 &  0 & ⋯ & 20940 & 19146 & 19131 & 2000 & 36681 & 10000 & 9000 &  689 &  679 & 0\\\\\n",
       "\t  50000 & 1 & 1 & 2 & 37 &  0 & 0 &  0 &  0 &  0 & ⋯ & 19394 & 19619 & 20024 & 2500 &  1815 &   657 & 1000 & 1000 &  800 & 0\\\\\n",
       "\\end{tabular}\n"
      ],
      "text/markdown": [
       "\n",
       "A tibble: 6 × 24\n",
       "\n",
       "| credit_limit &lt;dbl&gt; | sex &lt;dbl&gt; | education &lt;dbl&gt; | marital_status &lt;dbl&gt; | age &lt;dbl&gt; | status_09 &lt;dbl&gt; | status_08 &lt;dbl&gt; | status_07 &lt;dbl&gt; | status_06 &lt;dbl&gt; | status_05 &lt;dbl&gt; | ⋯ ⋯ | balance_06 &lt;dbl&gt; | balance_05 &lt;dbl&gt; | balance_04 &lt;dbl&gt; | payment_09 &lt;dbl&gt; | payment_08 &lt;dbl&gt; | payment_07 &lt;dbl&gt; | payment_06 &lt;dbl&gt; | payment_05 &lt;dbl&gt; | payment_04 &lt;dbl&gt; | y &lt;dbl&gt; |\n",
       "|---|---|---|---|---|---|---|---|---|---|---|---|---|---|---|---|---|---|---|---|---|\n",
       "|  20000 | 2 | 2 | 1 | 24 |  2 | 2 | -1 | -1 | -2 | ⋯ |     0 |     0 |     0 |    0 |   689 |     0 |    0 |    0 |    0 | 1 |\n",
       "| 120000 | 2 | 2 | 2 | 26 | -1 | 2 |  0 |  0 |  0 | ⋯ |  3272 |  3455 |  3261 |    0 |  1000 |  1000 | 1000 |    0 | 2000 | 1 |\n",
       "|  90000 | 2 | 2 | 2 | 34 |  0 | 0 |  0 |  0 |  0 | ⋯ | 14331 | 14948 | 15549 | 1518 |  1500 |  1000 | 1000 | 1000 | 5000 | 0 |\n",
       "|  50000 | 2 | 2 | 1 | 37 |  0 | 0 |  0 |  0 |  0 | ⋯ | 28314 | 28959 | 29547 | 2000 |  2019 |  1200 | 1100 | 1069 | 1000 | 0 |\n",
       "|  50000 | 1 | 2 | 1 | 57 | -1 | 0 | -1 |  0 |  0 | ⋯ | 20940 | 19146 | 19131 | 2000 | 36681 | 10000 | 9000 |  689 |  679 | 0 |\n",
       "|  50000 | 1 | 1 | 2 | 37 |  0 | 0 |  0 |  0 |  0 | ⋯ | 19394 | 19619 | 20024 | 2500 |  1815 |   657 | 1000 | 1000 |  800 | 0 |\n",
       "\n"
      ],
      "text/plain": [
       "  credit_limit sex education marital_status age status_09 status_08 status_07\n",
       "1  20000       2   2         1              24   2        2         -1       \n",
       "2 120000       2   2         2              26  -1        2          0       \n",
       "3  90000       2   2         2              34   0        0          0       \n",
       "4  50000       2   2         1              37   0        0          0       \n",
       "5  50000       1   2         1              57  -1        0         -1       \n",
       "6  50000       1   1         2              37   0        0          0       \n",
       "  status_06 status_05 ⋯ balance_06 balance_05 balance_04 payment_09 payment_08\n",
       "1 -1        -2        ⋯     0          0          0         0         689     \n",
       "2  0         0        ⋯  3272       3455       3261         0        1000     \n",
       "3  0         0        ⋯ 14331      14948      15549      1518        1500     \n",
       "4  0         0        ⋯ 28314      28959      29547      2000        2019     \n",
       "5  0         0        ⋯ 20940      19146      19131      2000       36681     \n",
       "6  0         0        ⋯ 19394      19619      20024      2500        1815     \n",
       "  payment_07 payment_06 payment_05 payment_04 y\n",
       "1     0         0          0          0       1\n",
       "2  1000      1000          0       2000       1\n",
       "3  1000      1000       1000       5000       0\n",
       "4  1200      1100       1069       1000       0\n",
       "5 10000      9000        689        679       0\n",
       "6   657      1000       1000        800       0"
      ]
     },
     "metadata": {},
     "output_type": "display_data"
    },
    {
     "name": "stdout",
     "output_type": "stream",
     "text": [
      "Rows: 30,000\n",
      "Columns: 24\n",
      "$ credit_limit   \u001b[3m\u001b[90m<dbl>\u001b[39m\u001b[23m 20000, 120000, 90000, 50000, 50000, 50000, 500000, 1000…\n",
      "$ sex            \u001b[3m\u001b[90m<dbl>\u001b[39m\u001b[23m 2, 2, 2, 2, 1, 1, 1, 2, 2, 1, 2, 2, 2, 1, 1, 2, 1, 1, 2…\n",
      "$ education      \u001b[3m\u001b[90m<dbl>\u001b[39m\u001b[23m 2, 2, 2, 2, 2, 1, 1, 2, 3, 3, 3, 1, 2, 2, 1, 3, 1, 1, 1…\n",
      "$ marital_status \u001b[3m\u001b[90m<dbl>\u001b[39m\u001b[23m 1, 2, 2, 1, 1, 2, 2, 2, 1, 2, 2, 2, 2, 2, 2, 3, 2, 1, 1…\n",
      "$ age            \u001b[3m\u001b[90m<dbl>\u001b[39m\u001b[23m 24, 26, 34, 37, 57, 37, 29, 23, 28, 35, 34, 51, 41, 30,…\n",
      "$ status_09      \u001b[3m\u001b[90m<dbl>\u001b[39m\u001b[23m 2, -1, 0, 0, -1, 0, 0, 0, 0, -2, 0, -1, -1, 1, 0, 1, 0,…\n",
      "$ status_08      \u001b[3m\u001b[90m<dbl>\u001b[39m\u001b[23m 2, 2, 0, 0, 0, 0, 0, -1, 0, -2, 0, -1, 0, 2, 0, 2, 0, 0…\n",
      "$ status_07      \u001b[3m\u001b[90m<dbl>\u001b[39m\u001b[23m -1, 0, 0, 0, -1, 0, 0, -1, 2, -2, 2, -1, -1, 2, 0, 0, 2…\n",
      "$ status_06      \u001b[3m\u001b[90m<dbl>\u001b[39m\u001b[23m -1, 0, 0, 0, 0, 0, 0, 0, 0, -2, 0, -1, -1, 0, 0, 0, 2, …\n",
      "$ status_05      \u001b[3m\u001b[90m<dbl>\u001b[39m\u001b[23m -2, 0, 0, 0, 0, 0, 0, 0, 0, -1, 0, -1, -1, 0, 0, 0, 2, …\n",
      "$ status_04      \u001b[3m\u001b[90m<dbl>\u001b[39m\u001b[23m -2, 2, 0, 0, 0, 0, 0, -1, 0, -1, -1, 2, -1, 2, 0, 0, 2,…\n",
      "$ balance_09     \u001b[3m\u001b[90m<dbl>\u001b[39m\u001b[23m 3913, 2682, 29239, 46990, 8617, 64400, 367965, 11876, 1…\n",
      "$ balance_08     \u001b[3m\u001b[90m<dbl>\u001b[39m\u001b[23m 3102, 1725, 14027, 48233, 5670, 57069, 412023, 380, 140…\n",
      "$ balance_07     \u001b[3m\u001b[90m<dbl>\u001b[39m\u001b[23m 689, 2682, 13559, 49291, 35835, 57608, 445007, 601, 121…\n",
      "$ balance_06     \u001b[3m\u001b[90m<dbl>\u001b[39m\u001b[23m 0, 3272, 14331, 28314, 20940, 19394, 542653, 221, 12211…\n",
      "$ balance_05     \u001b[3m\u001b[90m<dbl>\u001b[39m\u001b[23m 0, 3455, 14948, 28959, 19146, 19619, 483003, -159, 1179…\n",
      "$ balance_04     \u001b[3m\u001b[90m<dbl>\u001b[39m\u001b[23m 0, 3261, 15549, 29547, 19131, 20024, 473944, 567, 3719,…\n",
      "$ payment_09     \u001b[3m\u001b[90m<dbl>\u001b[39m\u001b[23m 0, 0, 1518, 2000, 2000, 2500, 55000, 380, 3329, 0, 2306…\n",
      "$ payment_08     \u001b[3m\u001b[90m<dbl>\u001b[39m\u001b[23m 689, 1000, 1500, 2019, 36681, 1815, 40000, 601, 0, 0, 1…\n",
      "$ payment_07     \u001b[3m\u001b[90m<dbl>\u001b[39m\u001b[23m 0, 1000, 1000, 1200, 10000, 657, 38000, 0, 432, 0, 50, …\n",
      "$ payment_06     \u001b[3m\u001b[90m<dbl>\u001b[39m\u001b[23m 0, 1000, 1000, 1100, 9000, 1000, 20239, 581, 1000, 1300…\n",
      "$ payment_05     \u001b[3m\u001b[90m<dbl>\u001b[39m\u001b[23m 0, 0, 1000, 1069, 689, 1000, 13750, 1687, 1000, 1122, 3…\n",
      "$ payment_04     \u001b[3m\u001b[90m<dbl>\u001b[39m\u001b[23m 0, 2000, 5000, 1000, 679, 800, 13770, 1542, 1000, 0, 66…\n",
      "$ y              \u001b[3m\u001b[90m<dbl>\u001b[39m\u001b[23m 1, 1, 0, 0, 0, 0, 0, 0, 0, 0, 0, 0, 0, 1, 0, 0, 1, 0, 0…\n"
     ]
    }
   ],
   "source": [
    "columns = c('id', 'credit_limit', 'sex', 'education', 'marital_status', 'age',\n",
    "            'status_09', 'status_08', 'status_07', 'status_06', 'status_05', 'status_04',\n",
    "            'balance_09', 'balance_08', 'balance_07', 'balance_06', 'balance_05', 'balance_04',\n",
    "            'payment_09', 'payment_08', 'payment_07', 'payment_06', 'payment_05', 'payment_04',\n",
    "            'y')\n",
    "            \n",
    "credit_card_data <- read_excel('data/default of credit card clients.xls',sheet='Data',skip=2,col_names=columns) |>\n",
    "    select(-id)\n",
    "\n",
    "head(credit_card_data)\n",
    "glimpse(credit_card_data)"
   ]
  },
  {
   "cell_type": "code",
   "execution_count": 6,
   "metadata": {
    "vscode": {
     "languageId": "r"
    }
   },
   "outputs": [],
   "source": [
    "### set.seed(154)\n",
    "credit_card_split <- credit_card_data |> initial_split(prop=0.75, strata = y)\n",
    "credit_card_train <- training(credit_card_split)\n",
    "credit_card_test <- testing(credit_card_split)\n",
    "\n",
    "credit_card_train <- mutate(credit_card_train, y = as.factor(y))\n",
    "credit_card_test <- mutate(credit_card_test, y = as.factor(y))"
   ]
  },
  {
   "cell_type": "code",
   "execution_count": 7,
   "metadata": {},
   "outputs": [],
   "source": [
    "credit_card_recipe <- recipe(y ~ ., data = credit_card_train)\n",
    "\n",
    "knn_spec <- nearest_neighbor(weight_func = \"rectangular\", neighbors = tune()) |> \n",
    "        set_engine(\"kknn\")|>\n",
    "        set_mode(\"classification\")\n",
    "\n",
    "credit_card_vfold <- vfold_cv(credit_card_train, v = 5, strata = y)\n",
    "\n",
    "\n",
    "credit_card_workflow <- workflow()|>\n",
    "        add_recipe(credit_card_recipe)|>\n",
    "        add_model(knn_spec)|>\n",
    "        tune_grid(resamples = credit_card_vfold, grid = 10)|>\n",
    "        collect_metrics()\n",
    "\n",
    "data_accuracy <- credit_card_workflow |>\n",
    "    filter(.metric == \"accuracy\")"
   ]
  },
  {
   "cell_type": "markdown",
   "metadata": {},
   "source": [
    "## Methods\n",
    "___"
   ]
  },
  {
   "cell_type": "markdown",
   "metadata": {},
   "source": [
    "* Explain how you will conduct either your data analysis and which variables/columns you will use. <u>Note - you do not need to use all variables/columns that exist in the raw data set. In fact, that's often not a good idea. For each variable think: is this a useful variable for prediction?</u>\n",
    "* Describe at least one way that you will visualize the results"
   ]
  },
  {
   "cell_type": "markdown",
   "metadata": {},
   "source": [
    "## Expected Outcomes and Significance\n",
    "___"
   ]
  },
  {
   "cell_type": "markdown",
   "metadata": {},
   "source": [
    "* What do you expect to find?\n",
    "* What impact could such findings have?\n",
    "* What future questions could this lead to?"
   ]
  },
  {
   "cell_type": "markdown",
   "metadata": {},
   "source": []
  },
  {
   "cell_type": "code",
   "execution_count": null,
   "metadata": {},
   "outputs": [],
   "source": []
  }
 ],
 "metadata": {
  "kernelspec": {
   "display_name": "R",
   "language": "R",
   "name": "ir"
  },
  "language_info": {
   "codemirror_mode": "r",
   "file_extension": ".r",
   "mimetype": "text/x-r-source",
   "name": "R",
   "pygments_lexer": "r",
   "version": "4.1.3"
  },
  "vscode": {
   "interpreter": {
    "hash": "8133a5e7c9d8e93edbb45f51b1c79401dfa1760be7f0c80fdbed489d84f53a6b"
   }
  }
 },
 "nbformat": 4,
 "nbformat_minor": 4
}
