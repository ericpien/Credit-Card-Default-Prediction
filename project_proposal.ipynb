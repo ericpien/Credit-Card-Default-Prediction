{
 "cells": [
  {
   "cell_type": "markdown",
   "metadata": {},
   "source": [
    "## Notes"
   ]
  },
  {
   "cell_type": "markdown",
   "metadata": {},
   "source": [
    "Kaggle Data: https://www.kaggle.com/datasets/rikdifos/credit-card-approval-prediction\n",
    "* Notes: Would propose changing (1) The data source is unclear, (2) we have to define our own \"bad credit\", (3) we have to deal with 2 databases\n",
    "\n",
    "Alternatives: \n",
    "* https://archive.ics.uci.edu/ml/datasets/default+of+credit+card+clients\n",
    "    * Default of credit card clients Data Set\n",
    "* https://www.kaggle.com/datasets/nikhilbhathi/data-scientist-salary-us-glassdoor\n",
    "    * Data Scientsist Salary in the US\n",
    "* https://www.kaggle.com/datasets/koki25ando/salary\n",
    "    * NBA Salary Dataset"
   ]
  },
  {
   "cell_type": "code",
   "execution_count": 21,
   "metadata": {
    "vscode": {
     "languageId": "r"
    }
   },
   "outputs": [],
   "source": [
    "# Environment Setup\n",
    "library(tidyverse)\n",
    "library(readxl)       #read excel files from online\n",
    "\n",
    "set.seed(154)"
   ]
  },
  {
   "cell_type": "markdown",
   "metadata": {},
   "source": [
    "# Credit Card Approval Prediction\n",
    "___"
   ]
  },
  {
   "cell_type": "markdown",
   "metadata": {},
   "source": [
    "## Introduction\n",
    "___"
   ]
  },
  {
   "cell_type": "markdown",
   "metadata": {},
   "source": [
    "* Provide some relevant background information on the topic so that someone unfamiliar with it will be prepared to understand the rest of your proposal\n",
    "* Clearly state the question you will try to answer with your project\n",
    "* Identify and describe the dataset that will be used to answer the question"
   ]
  },
  {
   "cell_type": "code",
   "execution_count": 31,
   "metadata": {
    "vscode": {
     "languageId": "r"
    }
   },
   "outputs": [
    {
     "data": {
      "text/html": [
       "<table class=\"dataframe\">\n",
       "<caption>A tibble: 6 × 25</caption>\n",
       "<thead>\n",
       "\t<tr><th scope=col>ID</th><th scope=col>LIMIT_BAL</th><th scope=col>SEX</th><th scope=col>EDUCATION</th><th scope=col>MARRIAGE</th><th scope=col>AGE</th><th scope=col>PAY_0</th><th scope=col>PAY_2</th><th scope=col>PAY_3</th><th scope=col>PAY_4</th><th scope=col>⋯</th><th scope=col>BILL_AMT4</th><th scope=col>BILL_AMT5</th><th scope=col>BILL_AMT6</th><th scope=col>PAY_AMT1</th><th scope=col>PAY_AMT2</th><th scope=col>PAY_AMT3</th><th scope=col>PAY_AMT4</th><th scope=col>PAY_AMT5</th><th scope=col>PAY_AMT6</th><th scope=col>default payment next month</th></tr>\n",
       "\t<tr><th scope=col>&lt;dbl&gt;</th><th scope=col>&lt;dbl&gt;</th><th scope=col>&lt;dbl&gt;</th><th scope=col>&lt;dbl&gt;</th><th scope=col>&lt;dbl&gt;</th><th scope=col>&lt;dbl&gt;</th><th scope=col>&lt;dbl&gt;</th><th scope=col>&lt;dbl&gt;</th><th scope=col>&lt;dbl&gt;</th><th scope=col>&lt;dbl&gt;</th><th scope=col>⋯</th><th scope=col>&lt;dbl&gt;</th><th scope=col>&lt;dbl&gt;</th><th scope=col>&lt;dbl&gt;</th><th scope=col>&lt;dbl&gt;</th><th scope=col>&lt;dbl&gt;</th><th scope=col>&lt;dbl&gt;</th><th scope=col>&lt;dbl&gt;</th><th scope=col>&lt;dbl&gt;</th><th scope=col>&lt;dbl&gt;</th><th scope=col>&lt;dbl&gt;</th></tr>\n",
       "</thead>\n",
       "<tbody>\n",
       "\t<tr><td>1</td><td> 20000</td><td>2</td><td>2</td><td>1</td><td>24</td><td> 2</td><td>2</td><td>-1</td><td>-1</td><td>⋯</td><td>    0</td><td>    0</td><td>    0</td><td>   0</td><td>  689</td><td>    0</td><td>   0</td><td>   0</td><td>   0</td><td>1</td></tr>\n",
       "\t<tr><td>2</td><td>120000</td><td>2</td><td>2</td><td>2</td><td>26</td><td>-1</td><td>2</td><td> 0</td><td> 0</td><td>⋯</td><td> 3272</td><td> 3455</td><td> 3261</td><td>   0</td><td> 1000</td><td> 1000</td><td>1000</td><td>   0</td><td>2000</td><td>1</td></tr>\n",
       "\t<tr><td>3</td><td> 90000</td><td>2</td><td>2</td><td>2</td><td>34</td><td> 0</td><td>0</td><td> 0</td><td> 0</td><td>⋯</td><td>14331</td><td>14948</td><td>15549</td><td>1518</td><td> 1500</td><td> 1000</td><td>1000</td><td>1000</td><td>5000</td><td>0</td></tr>\n",
       "\t<tr><td>4</td><td> 50000</td><td>2</td><td>2</td><td>1</td><td>37</td><td> 0</td><td>0</td><td> 0</td><td> 0</td><td>⋯</td><td>28314</td><td>28959</td><td>29547</td><td>2000</td><td> 2019</td><td> 1200</td><td>1100</td><td>1069</td><td>1000</td><td>0</td></tr>\n",
       "\t<tr><td>5</td><td> 50000</td><td>1</td><td>2</td><td>1</td><td>57</td><td>-1</td><td>0</td><td>-1</td><td> 0</td><td>⋯</td><td>20940</td><td>19146</td><td>19131</td><td>2000</td><td>36681</td><td>10000</td><td>9000</td><td> 689</td><td> 679</td><td>0</td></tr>\n",
       "\t<tr><td>6</td><td> 50000</td><td>1</td><td>1</td><td>2</td><td>37</td><td> 0</td><td>0</td><td> 0</td><td> 0</td><td>⋯</td><td>19394</td><td>19619</td><td>20024</td><td>2500</td><td> 1815</td><td>  657</td><td>1000</td><td>1000</td><td> 800</td><td>0</td></tr>\n",
       "</tbody>\n",
       "</table>\n"
      ],
      "text/latex": [
       "A tibble: 6 × 25\n",
       "\\begin{tabular}{lllllllllllllllllllll}\n",
       " ID & LIMIT\\_BAL & SEX & EDUCATION & MARRIAGE & AGE & PAY\\_0 & PAY\\_2 & PAY\\_3 & PAY\\_4 & ⋯ & BILL\\_AMT4 & BILL\\_AMT5 & BILL\\_AMT6 & PAY\\_AMT1 & PAY\\_AMT2 & PAY\\_AMT3 & PAY\\_AMT4 & PAY\\_AMT5 & PAY\\_AMT6 & default payment next month\\\\\n",
       " <dbl> & <dbl> & <dbl> & <dbl> & <dbl> & <dbl> & <dbl> & <dbl> & <dbl> & <dbl> & ⋯ & <dbl> & <dbl> & <dbl> & <dbl> & <dbl> & <dbl> & <dbl> & <dbl> & <dbl> & <dbl>\\\\\n",
       "\\hline\n",
       "\t 1 &  20000 & 2 & 2 & 1 & 24 &  2 & 2 & -1 & -1 & ⋯ &     0 &     0 &     0 &    0 &   689 &     0 &    0 &    0 &    0 & 1\\\\\n",
       "\t 2 & 120000 & 2 & 2 & 2 & 26 & -1 & 2 &  0 &  0 & ⋯ &  3272 &  3455 &  3261 &    0 &  1000 &  1000 & 1000 &    0 & 2000 & 1\\\\\n",
       "\t 3 &  90000 & 2 & 2 & 2 & 34 &  0 & 0 &  0 &  0 & ⋯ & 14331 & 14948 & 15549 & 1518 &  1500 &  1000 & 1000 & 1000 & 5000 & 0\\\\\n",
       "\t 4 &  50000 & 2 & 2 & 1 & 37 &  0 & 0 &  0 &  0 & ⋯ & 28314 & 28959 & 29547 & 2000 &  2019 &  1200 & 1100 & 1069 & 1000 & 0\\\\\n",
       "\t 5 &  50000 & 1 & 2 & 1 & 57 & -1 & 0 & -1 &  0 & ⋯ & 20940 & 19146 & 19131 & 2000 & 36681 & 10000 & 9000 &  689 &  679 & 0\\\\\n",
       "\t 6 &  50000 & 1 & 1 & 2 & 37 &  0 & 0 &  0 &  0 & ⋯ & 19394 & 19619 & 20024 & 2500 &  1815 &   657 & 1000 & 1000 &  800 & 0\\\\\n",
       "\\end{tabular}\n"
      ],
      "text/markdown": [
       "\n",
       "A tibble: 6 × 25\n",
       "\n",
       "| ID &lt;dbl&gt; | LIMIT_BAL &lt;dbl&gt; | SEX &lt;dbl&gt; | EDUCATION &lt;dbl&gt; | MARRIAGE &lt;dbl&gt; | AGE &lt;dbl&gt; | PAY_0 &lt;dbl&gt; | PAY_2 &lt;dbl&gt; | PAY_3 &lt;dbl&gt; | PAY_4 &lt;dbl&gt; | ⋯ ⋯ | BILL_AMT4 &lt;dbl&gt; | BILL_AMT5 &lt;dbl&gt; | BILL_AMT6 &lt;dbl&gt; | PAY_AMT1 &lt;dbl&gt; | PAY_AMT2 &lt;dbl&gt; | PAY_AMT3 &lt;dbl&gt; | PAY_AMT4 &lt;dbl&gt; | PAY_AMT5 &lt;dbl&gt; | PAY_AMT6 &lt;dbl&gt; | default payment next month &lt;dbl&gt; |\n",
       "|---|---|---|---|---|---|---|---|---|---|---|---|---|---|---|---|---|---|---|---|---|\n",
       "| 1 |  20000 | 2 | 2 | 1 | 24 |  2 | 2 | -1 | -1 | ⋯ |     0 |     0 |     0 |    0 |   689 |     0 |    0 |    0 |    0 | 1 |\n",
       "| 2 | 120000 | 2 | 2 | 2 | 26 | -1 | 2 |  0 |  0 | ⋯ |  3272 |  3455 |  3261 |    0 |  1000 |  1000 | 1000 |    0 | 2000 | 1 |\n",
       "| 3 |  90000 | 2 | 2 | 2 | 34 |  0 | 0 |  0 |  0 | ⋯ | 14331 | 14948 | 15549 | 1518 |  1500 |  1000 | 1000 | 1000 | 5000 | 0 |\n",
       "| 4 |  50000 | 2 | 2 | 1 | 37 |  0 | 0 |  0 |  0 | ⋯ | 28314 | 28959 | 29547 | 2000 |  2019 |  1200 | 1100 | 1069 | 1000 | 0 |\n",
       "| 5 |  50000 | 1 | 2 | 1 | 57 | -1 | 0 | -1 |  0 | ⋯ | 20940 | 19146 | 19131 | 2000 | 36681 | 10000 | 9000 |  689 |  679 | 0 |\n",
       "| 6 |  50000 | 1 | 1 | 2 | 37 |  0 | 0 |  0 |  0 | ⋯ | 19394 | 19619 | 20024 | 2500 |  1815 |   657 | 1000 | 1000 |  800 | 0 |\n",
       "\n"
      ],
      "text/plain": [
       "  ID LIMIT_BAL SEX EDUCATION MARRIAGE AGE PAY_0 PAY_2 PAY_3 PAY_4 <U+22EF>       \n",
       "1 1   20000    2   2         1        24   2    2     -1    -1    <U+22EF>\n",
       "2 2  120000    2   2         2        26  -1    2      0     0    <U+22EF>\n",
       "3 3   90000    2   2         2        34   0    0      0     0    <U+22EF>\n",
       "4 4   50000    2   2         1        37   0    0      0     0    <U+22EF>\n",
       "5 5   50000    1   2         1        57  -1    0     -1     0    <U+22EF>\n",
       "6 6   50000    1   1         2        37   0    0      0     0    <U+22EF>\n",
       "  BILL_AMT4 BILL_AMT5 BILL_AMT6 PAY_AMT1 PAY_AMT2 PAY_AMT3 PAY_AMT4 PAY_AMT5\n",
       "1     0         0         0        0       689        0       0        0    \n",
       "2  3272      3455      3261        0      1000     1000    1000        0    \n",
       "3 14331     14948     15549     1518      1500     1000    1000     1000    \n",
       "4 28314     28959     29547     2000      2019     1200    1100     1069    \n",
       "5 20940     19146     19131     2000     36681    10000    9000      689    \n",
       "6 19394     19619     20024     2500      1815      657    1000     1000    \n",
       "  PAY_AMT6 default payment next month\n",
       "1    0     1                         \n",
       "2 2000     1                         \n",
       "3 5000     0                         \n",
       "4 1000     0                         \n",
       "5  679     0                         \n",
       "6  800     0                         "
      ]
     },
     "metadata": {},
     "output_type": "display_data"
    },
    {
     "name": "stdout",
     "output_type": "stream",
     "text": [
      "Rows: 30,000\n",
      "Columns: 25\n",
      "$ ID                           \u001b[3m\u001b[90m<dbl>\u001b[39m\u001b[23m 1, 2, 3, 4, 5, 6, 7, 8, 9, 10, 11, 12, 13~\n",
      "$ LIMIT_BAL                    \u001b[3m\u001b[90m<dbl>\u001b[39m\u001b[23m 20000, 120000, 90000, 50000, 50000, 50000~\n",
      "$ SEX                          \u001b[3m\u001b[90m<dbl>\u001b[39m\u001b[23m 2, 2, 2, 2, 1, 1, 1, 2, 2, 1, 2, 2, 2, 1,~\n",
      "$ EDUCATION                    \u001b[3m\u001b[90m<dbl>\u001b[39m\u001b[23m 2, 2, 2, 2, 2, 1, 1, 2, 3, 3, 3, 1, 2, 2,~\n",
      "$ MARRIAGE                     \u001b[3m\u001b[90m<dbl>\u001b[39m\u001b[23m 1, 2, 2, 1, 1, 2, 2, 2, 1, 2, 2, 2, 2, 2,~\n",
      "$ AGE                          \u001b[3m\u001b[90m<dbl>\u001b[39m\u001b[23m 24, 26, 34, 37, 57, 37, 29, 23, 28, 35, 3~\n",
      "$ PAY_0                        \u001b[3m\u001b[90m<dbl>\u001b[39m\u001b[23m 2, -1, 0, 0, -1, 0, 0, 0, 0, -2, 0, -1, -~\n",
      "$ PAY_2                        \u001b[3m\u001b[90m<dbl>\u001b[39m\u001b[23m 2, 2, 0, 0, 0, 0, 0, -1, 0, -2, 0, -1, 0,~\n",
      "$ PAY_3                        \u001b[3m\u001b[90m<dbl>\u001b[39m\u001b[23m -1, 0, 0, 0, -1, 0, 0, -1, 2, -2, 2, -1, ~\n",
      "$ PAY_4                        \u001b[3m\u001b[90m<dbl>\u001b[39m\u001b[23m -1, 0, 0, 0, 0, 0, 0, 0, 0, -2, 0, -1, -1~\n",
      "$ PAY_5                        \u001b[3m\u001b[90m<dbl>\u001b[39m\u001b[23m -2, 0, 0, 0, 0, 0, 0, 0, 0, -1, 0, -1, -1~\n",
      "$ PAY_6                        \u001b[3m\u001b[90m<dbl>\u001b[39m\u001b[23m -2, 2, 0, 0, 0, 0, 0, -1, 0, -1, -1, 2, -~\n",
      "$ BILL_AMT1                    \u001b[3m\u001b[90m<dbl>\u001b[39m\u001b[23m 3913, 2682, 29239, 46990, 8617, 64400, 36~\n",
      "$ BILL_AMT2                    \u001b[3m\u001b[90m<dbl>\u001b[39m\u001b[23m 3102, 1725, 14027, 48233, 5670, 57069, 41~\n",
      "$ BILL_AMT3                    \u001b[3m\u001b[90m<dbl>\u001b[39m\u001b[23m 689, 2682, 13559, 49291, 35835, 57608, 44~\n",
      "$ BILL_AMT4                    \u001b[3m\u001b[90m<dbl>\u001b[39m\u001b[23m 0, 3272, 14331, 28314, 20940, 19394, 5426~\n",
      "$ BILL_AMT5                    \u001b[3m\u001b[90m<dbl>\u001b[39m\u001b[23m 0, 3455, 14948, 28959, 19146, 19619, 4830~\n",
      "$ BILL_AMT6                    \u001b[3m\u001b[90m<dbl>\u001b[39m\u001b[23m 0, 3261, 15549, 29547, 19131, 20024, 4739~\n",
      "$ PAY_AMT1                     \u001b[3m\u001b[90m<dbl>\u001b[39m\u001b[23m 0, 0, 1518, 2000, 2000, 2500, 55000, 380,~\n",
      "$ PAY_AMT2                     \u001b[3m\u001b[90m<dbl>\u001b[39m\u001b[23m 689, 1000, 1500, 2019, 36681, 1815, 40000~\n",
      "$ PAY_AMT3                     \u001b[3m\u001b[90m<dbl>\u001b[39m\u001b[23m 0, 1000, 1000, 1200, 10000, 657, 38000, 0~\n",
      "$ PAY_AMT4                     \u001b[3m\u001b[90m<dbl>\u001b[39m\u001b[23m 0, 1000, 1000, 1100, 9000, 1000, 20239, 5~\n",
      "$ PAY_AMT5                     \u001b[3m\u001b[90m<dbl>\u001b[39m\u001b[23m 0, 0, 1000, 1069, 689, 1000, 13750, 1687,~\n",
      "$ PAY_AMT6                     \u001b[3m\u001b[90m<dbl>\u001b[39m\u001b[23m 0, 2000, 5000, 1000, 679, 800, 13770, 154~\n",
      "$ `default payment next month` \u001b[3m\u001b[90m<dbl>\u001b[39m\u001b[23m 1, 1, 0, 0, 0, 0, 0, 0, 0, 0, 0, 0, 0, 1,~\n"
     ]
    }
   ],
   "source": [
    "taiwan_credit_card_data <- read_excel('data/default of credit card clients.xls',sheet='Data',skip=1)\n",
    "\n",
    "head(taiwan_credit_card_data)\n",
    "glimpse(taiwan_credit_card_data)"
   ]
  },
  {
   "cell_type": "code",
   "execution_count": 18,
   "metadata": {
    "vscode": {
     "languageId": "r"
    }
   },
   "outputs": [
    {
     "name": "stderr",
     "output_type": "stream",
     "text": [
      "\u001b[1mRows: \u001b[22m\u001b[34m438557\u001b[39m \u001b[1mColumns: \u001b[22m\u001b[34m18\u001b[39m\n",
      "\u001b[36m--\u001b[39m \u001b[1mColumn specification\u001b[22m \u001b[36m--------------------------------------------------------\u001b[39m\n",
      "\u001b[1mDelimiter:\u001b[22m \",\"\n",
      "\u001b[31mchr\u001b[39m  (8): CODE_GENDER, FLAG_OWN_CAR, FLAG_OWN_REALTY, NAME_INCOME_TYPE, NAME...\n",
      "\u001b[32mdbl\u001b[39m (10): ID, CNT_CHILDREN, AMT_INCOME_TOTAL, DAYS_BIRTH, DAYS_EMPLOYED, FLA...\n",
      "\n",
      "\u001b[36mi\u001b[39m Use `spec()` to retrieve the full column specification for this data.\n",
      "\u001b[36mi\u001b[39m Specify the column types or set `show_col_types = FALSE` to quiet this message.\n"
     ]
    },
    {
     "data": {
      "text/html": [
       "<table class=\"dataframe\">\n",
       "<caption>A tibble: 6 × 18</caption>\n",
       "<thead>\n",
       "\t<tr><th scope=col>ID</th><th scope=col>CODE_GENDER</th><th scope=col>FLAG_OWN_CAR</th><th scope=col>FLAG_OWN_REALTY</th><th scope=col>CNT_CHILDREN</th><th scope=col>AMT_INCOME_TOTAL</th><th scope=col>NAME_INCOME_TYPE</th><th scope=col>NAME_EDUCATION_TYPE</th><th scope=col>NAME_FAMILY_STATUS</th><th scope=col>NAME_HOUSING_TYPE</th><th scope=col>DAYS_BIRTH</th><th scope=col>DAYS_EMPLOYED</th><th scope=col>FLAG_MOBIL</th><th scope=col>FLAG_WORK_PHONE</th><th scope=col>FLAG_PHONE</th><th scope=col>FLAG_EMAIL</th><th scope=col>OCCUPATION_TYPE</th><th scope=col>CNT_FAM_MEMBERS</th></tr>\n",
       "\t<tr><th scope=col>&lt;dbl&gt;</th><th scope=col>&lt;chr&gt;</th><th scope=col>&lt;chr&gt;</th><th scope=col>&lt;chr&gt;</th><th scope=col>&lt;dbl&gt;</th><th scope=col>&lt;dbl&gt;</th><th scope=col>&lt;chr&gt;</th><th scope=col>&lt;chr&gt;</th><th scope=col>&lt;chr&gt;</th><th scope=col>&lt;chr&gt;</th><th scope=col>&lt;dbl&gt;</th><th scope=col>&lt;dbl&gt;</th><th scope=col>&lt;dbl&gt;</th><th scope=col>&lt;dbl&gt;</th><th scope=col>&lt;dbl&gt;</th><th scope=col>&lt;dbl&gt;</th><th scope=col>&lt;chr&gt;</th><th scope=col>&lt;dbl&gt;</th></tr>\n",
       "</thead>\n",
       "<tbody>\n",
       "\t<tr><td>5008804</td><td>M</td><td>Y</td><td>Y</td><td>0</td><td>427500</td><td>Working             </td><td>Higher education             </td><td>Civil marriage      </td><td>Rented apartment </td><td>-12005</td><td>-4542</td><td>1</td><td>1</td><td>0</td><td>0</td><td>NA            </td><td>2</td></tr>\n",
       "\t<tr><td>5008805</td><td>M</td><td>Y</td><td>Y</td><td>0</td><td>427500</td><td>Working             </td><td>Higher education             </td><td>Civil marriage      </td><td>Rented apartment </td><td>-12005</td><td>-4542</td><td>1</td><td>1</td><td>0</td><td>0</td><td>NA            </td><td>2</td></tr>\n",
       "\t<tr><td>5008806</td><td>M</td><td>Y</td><td>Y</td><td>0</td><td>112500</td><td>Working             </td><td>Secondary / secondary special</td><td>Married             </td><td>House / apartment</td><td>-21474</td><td>-1134</td><td>1</td><td>0</td><td>0</td><td>0</td><td>Security staff</td><td>2</td></tr>\n",
       "\t<tr><td>5008808</td><td>F</td><td>N</td><td>Y</td><td>0</td><td>270000</td><td>Commercial associate</td><td>Secondary / secondary special</td><td>Single / not married</td><td>House / apartment</td><td>-19110</td><td>-3051</td><td>1</td><td>0</td><td>1</td><td>1</td><td>Sales staff   </td><td>1</td></tr>\n",
       "\t<tr><td>5008809</td><td>F</td><td>N</td><td>Y</td><td>0</td><td>270000</td><td>Commercial associate</td><td>Secondary / secondary special</td><td>Single / not married</td><td>House / apartment</td><td>-19110</td><td>-3051</td><td>1</td><td>0</td><td>1</td><td>1</td><td>Sales staff   </td><td>1</td></tr>\n",
       "\t<tr><td>5008810</td><td>F</td><td>N</td><td>Y</td><td>0</td><td>270000</td><td>Commercial associate</td><td>Secondary / secondary special</td><td>Single / not married</td><td>House / apartment</td><td>-19110</td><td>-3051</td><td>1</td><td>0</td><td>1</td><td>1</td><td>Sales staff   </td><td>1</td></tr>\n",
       "</tbody>\n",
       "</table>\n"
      ],
      "text/latex": [
       "A tibble: 6 × 18\n",
       "\\begin{tabular}{llllllllllllllllll}\n",
       " ID & CODE\\_GENDER & FLAG\\_OWN\\_CAR & FLAG\\_OWN\\_REALTY & CNT\\_CHILDREN & AMT\\_INCOME\\_TOTAL & NAME\\_INCOME\\_TYPE & NAME\\_EDUCATION\\_TYPE & NAME\\_FAMILY\\_STATUS & NAME\\_HOUSING\\_TYPE & DAYS\\_BIRTH & DAYS\\_EMPLOYED & FLAG\\_MOBIL & FLAG\\_WORK\\_PHONE & FLAG\\_PHONE & FLAG\\_EMAIL & OCCUPATION\\_TYPE & CNT\\_FAM\\_MEMBERS\\\\\n",
       " <dbl> & <chr> & <chr> & <chr> & <dbl> & <dbl> & <chr> & <chr> & <chr> & <chr> & <dbl> & <dbl> & <dbl> & <dbl> & <dbl> & <dbl> & <chr> & <dbl>\\\\\n",
       "\\hline\n",
       "\t 5008804 & M & Y & Y & 0 & 427500 & Working              & Higher education              & Civil marriage       & Rented apartment  & -12005 & -4542 & 1 & 1 & 0 & 0 & NA             & 2\\\\\n",
       "\t 5008805 & M & Y & Y & 0 & 427500 & Working              & Higher education              & Civil marriage       & Rented apartment  & -12005 & -4542 & 1 & 1 & 0 & 0 & NA             & 2\\\\\n",
       "\t 5008806 & M & Y & Y & 0 & 112500 & Working              & Secondary / secondary special & Married              & House / apartment & -21474 & -1134 & 1 & 0 & 0 & 0 & Security staff & 2\\\\\n",
       "\t 5008808 & F & N & Y & 0 & 270000 & Commercial associate & Secondary / secondary special & Single / not married & House / apartment & -19110 & -3051 & 1 & 0 & 1 & 1 & Sales staff    & 1\\\\\n",
       "\t 5008809 & F & N & Y & 0 & 270000 & Commercial associate & Secondary / secondary special & Single / not married & House / apartment & -19110 & -3051 & 1 & 0 & 1 & 1 & Sales staff    & 1\\\\\n",
       "\t 5008810 & F & N & Y & 0 & 270000 & Commercial associate & Secondary / secondary special & Single / not married & House / apartment & -19110 & -3051 & 1 & 0 & 1 & 1 & Sales staff    & 1\\\\\n",
       "\\end{tabular}\n"
      ],
      "text/markdown": [
       "\n",
       "A tibble: 6 × 18\n",
       "\n",
       "| ID &lt;dbl&gt; | CODE_GENDER &lt;chr&gt; | FLAG_OWN_CAR &lt;chr&gt; | FLAG_OWN_REALTY &lt;chr&gt; | CNT_CHILDREN &lt;dbl&gt; | AMT_INCOME_TOTAL &lt;dbl&gt; | NAME_INCOME_TYPE &lt;chr&gt; | NAME_EDUCATION_TYPE &lt;chr&gt; | NAME_FAMILY_STATUS &lt;chr&gt; | NAME_HOUSING_TYPE &lt;chr&gt; | DAYS_BIRTH &lt;dbl&gt; | DAYS_EMPLOYED &lt;dbl&gt; | FLAG_MOBIL &lt;dbl&gt; | FLAG_WORK_PHONE &lt;dbl&gt; | FLAG_PHONE &lt;dbl&gt; | FLAG_EMAIL &lt;dbl&gt; | OCCUPATION_TYPE &lt;chr&gt; | CNT_FAM_MEMBERS &lt;dbl&gt; |\n",
       "|---|---|---|---|---|---|---|---|---|---|---|---|---|---|---|---|---|---|\n",
       "| 5008804 | M | Y | Y | 0 | 427500 | Working              | Higher education              | Civil marriage       | Rented apartment  | -12005 | -4542 | 1 | 1 | 0 | 0 | NA             | 2 |\n",
       "| 5008805 | M | Y | Y | 0 | 427500 | Working              | Higher education              | Civil marriage       | Rented apartment  | -12005 | -4542 | 1 | 1 | 0 | 0 | NA             | 2 |\n",
       "| 5008806 | M | Y | Y | 0 | 112500 | Working              | Secondary / secondary special | Married              | House / apartment | -21474 | -1134 | 1 | 0 | 0 | 0 | Security staff | 2 |\n",
       "| 5008808 | F | N | Y | 0 | 270000 | Commercial associate | Secondary / secondary special | Single / not married | House / apartment | -19110 | -3051 | 1 | 0 | 1 | 1 | Sales staff    | 1 |\n",
       "| 5008809 | F | N | Y | 0 | 270000 | Commercial associate | Secondary / secondary special | Single / not married | House / apartment | -19110 | -3051 | 1 | 0 | 1 | 1 | Sales staff    | 1 |\n",
       "| 5008810 | F | N | Y | 0 | 270000 | Commercial associate | Secondary / secondary special | Single / not married | House / apartment | -19110 | -3051 | 1 | 0 | 1 | 1 | Sales staff    | 1 |\n",
       "\n"
      ],
      "text/plain": [
       "  ID      CODE_GENDER FLAG_OWN_CAR FLAG_OWN_REALTY CNT_CHILDREN\n",
       "1 5008804 M           Y            Y               0           \n",
       "2 5008805 M           Y            Y               0           \n",
       "3 5008806 M           Y            Y               0           \n",
       "4 5008808 F           N            Y               0           \n",
       "5 5008809 F           N            Y               0           \n",
       "6 5008810 F           N            Y               0           \n",
       "  AMT_INCOME_TOTAL NAME_INCOME_TYPE     NAME_EDUCATION_TYPE          \n",
       "1 427500           Working              Higher education             \n",
       "2 427500           Working              Higher education             \n",
       "3 112500           Working              Secondary / secondary special\n",
       "4 270000           Commercial associate Secondary / secondary special\n",
       "5 270000           Commercial associate Secondary / secondary special\n",
       "6 270000           Commercial associate Secondary / secondary special\n",
       "  NAME_FAMILY_STATUS   NAME_HOUSING_TYPE DAYS_BIRTH DAYS_EMPLOYED FLAG_MOBIL\n",
       "1 Civil marriage       Rented apartment  -12005     -4542         1         \n",
       "2 Civil marriage       Rented apartment  -12005     -4542         1         \n",
       "3 Married              House / apartment -21474     -1134         1         \n",
       "4 Single / not married House / apartment -19110     -3051         1         \n",
       "5 Single / not married House / apartment -19110     -3051         1         \n",
       "6 Single / not married House / apartment -19110     -3051         1         \n",
       "  FLAG_WORK_PHONE FLAG_PHONE FLAG_EMAIL OCCUPATION_TYPE CNT_FAM_MEMBERS\n",
       "1 1               0          0          NA              2              \n",
       "2 1               0          0          NA              2              \n",
       "3 0               0          0          Security staff  2              \n",
       "4 0               1          1          Sales staff     1              \n",
       "5 0               1          1          Sales staff     1              \n",
       "6 0               1          1          Sales staff     1              "
      ]
     },
     "metadata": {},
     "output_type": "display_data"
    },
    {
     "name": "stderr",
     "output_type": "stream",
     "text": [
      "\u001b[1mRows: \u001b[22m\u001b[34m1048575\u001b[39m \u001b[1mColumns: \u001b[22m\u001b[34m3\u001b[39m\n",
      "\u001b[36m--\u001b[39m \u001b[1mColumn specification\u001b[22m \u001b[36m--------------------------------------------------------\u001b[39m\n",
      "\u001b[1mDelimiter:\u001b[22m \",\"\n",
      "\u001b[31mchr\u001b[39m (1): STATUS\n",
      "\u001b[32mdbl\u001b[39m (2): ID, MONTHS_BALANCE\n",
      "\n",
      "\u001b[36mi\u001b[39m Use `spec()` to retrieve the full column specification for this data.\n",
      "\u001b[36mi\u001b[39m Specify the column types or set `show_col_types = FALSE` to quiet this message.\n"
     ]
    },
    {
     "data": {
      "text/html": [
       "<table class=\"dataframe\">\n",
       "<caption>A tibble: 6 × 3</caption>\n",
       "<thead>\n",
       "\t<tr><th scope=col>ID</th><th scope=col>MONTHS_BALANCE</th><th scope=col>STATUS</th></tr>\n",
       "\t<tr><th scope=col>&lt;dbl&gt;</th><th scope=col>&lt;dbl&gt;</th><th scope=col>&lt;chr&gt;</th></tr>\n",
       "</thead>\n",
       "<tbody>\n",
       "\t<tr><td>5001711</td><td> 0</td><td>X</td></tr>\n",
       "\t<tr><td>5001711</td><td>-1</td><td>0</td></tr>\n",
       "\t<tr><td>5001711</td><td>-2</td><td>0</td></tr>\n",
       "\t<tr><td>5001711</td><td>-3</td><td>0</td></tr>\n",
       "\t<tr><td>5001712</td><td> 0</td><td>C</td></tr>\n",
       "\t<tr><td>5001712</td><td>-1</td><td>C</td></tr>\n",
       "</tbody>\n",
       "</table>\n"
      ],
      "text/latex": [
       "A tibble: 6 × 3\n",
       "\\begin{tabular}{lll}\n",
       " ID & MONTHS\\_BALANCE & STATUS\\\\\n",
       " <dbl> & <dbl> & <chr>\\\\\n",
       "\\hline\n",
       "\t 5001711 &  0 & X\\\\\n",
       "\t 5001711 & -1 & 0\\\\\n",
       "\t 5001711 & -2 & 0\\\\\n",
       "\t 5001711 & -3 & 0\\\\\n",
       "\t 5001712 &  0 & C\\\\\n",
       "\t 5001712 & -1 & C\\\\\n",
       "\\end{tabular}\n"
      ],
      "text/markdown": [
       "\n",
       "A tibble: 6 × 3\n",
       "\n",
       "| ID &lt;dbl&gt; | MONTHS_BALANCE &lt;dbl&gt; | STATUS &lt;chr&gt; |\n",
       "|---|---|---|\n",
       "| 5001711 |  0 | X |\n",
       "| 5001711 | -1 | 0 |\n",
       "| 5001711 | -2 | 0 |\n",
       "| 5001711 | -3 | 0 |\n",
       "| 5001712 |  0 | C |\n",
       "| 5001712 | -1 | C |\n",
       "\n"
      ],
      "text/plain": [
       "  ID      MONTHS_BALANCE STATUS\n",
       "1 5001711  0             X     \n",
       "2 5001711 -1             0     \n",
       "3 5001711 -2             0     \n",
       "4 5001711 -3             0     \n",
       "5 5001712  0             C     \n",
       "6 5001712 -1             C     "
      ]
     },
     "metadata": {},
     "output_type": "display_data"
    }
   ],
   "source": [
    "application_record <- read_csv('data/application_record.csv')\n",
    "head(application_record)\n",
    "\n",
    "credit_record <- read_csv('data/credit_record.csv')\n",
    "head(credit_record)"
   ]
  },
  {
   "cell_type": "markdown",
   "metadata": {},
   "source": [
    "## Preliminary Exploratory Data Analysis\n",
    "___"
   ]
  },
  {
   "cell_type": "markdown",
   "metadata": {},
   "source": [
    "* Demonstrate that the dataset can be read from the web into R \n",
    "* Clean and wrangle your data into a tidy format\n",
    "* Using only **training data**, summarize the data in at least one table (this is exploratory data analysis). An example of a useful table could be one that reports the number of observations in each class, the means of the predictor variables you plan to use in your analysis and how many rows have missing data. \n",
    "* Using only **training data**, visualize the data with at least one plot relevant to the analysis you plan to do (this is exploratory data analysis). An example of a useful visualization could be one that compares the distributions of each of the predictor variables you plan to use in your analysis.\n"
   ]
  },
  {
   "cell_type": "markdown",
   "metadata": {},
   "source": [
    "## Methods\n",
    "___"
   ]
  },
  {
   "cell_type": "markdown",
   "metadata": {},
   "source": [
    "* Explain how you will conduct either your data analysis and which variables/columns you will use. <u>Note - you do not need to use all variables/columns that exist in the raw data set. In fact, that's often not a good idea. For each variable think: is this a useful variable for prediction?</u>\n",
    "* Describe at least one way that you will visualize the results"
   ]
  },
  {
   "cell_type": "markdown",
   "metadata": {},
   "source": [
    "## Expected Outcomes and Significance\n",
    "___"
   ]
  },
  {
   "cell_type": "markdown",
   "metadata": {},
   "source": [
    "* What do you expect to find?\n",
    "* What impact could such findings have?\n",
    "* What future questions could this lead to?"
   ]
  },
  {
   "cell_type": "markdown",
   "metadata": {},
   "source": []
  }
 ],
 "metadata": {
  "kernelspec": {
   "display_name": "R",
   "language": "R",
   "name": "ir"
  },
  "language_info": {
   "codemirror_mode": "r",
   "file_extension": ".r",
   "mimetype": "text/x-r-source",
   "name": "R",
   "pygments_lexer": "r",
   "version": "4.2.1"
  },
  "orig_nbformat": 4,
  "vscode": {
   "interpreter": {
    "hash": "8133a5e7c9d8e93edbb45f51b1c79401dfa1760be7f0c80fdbed489d84f53a6b"
   }
  }
 },
 "nbformat": 4,
 "nbformat_minor": 2
}
